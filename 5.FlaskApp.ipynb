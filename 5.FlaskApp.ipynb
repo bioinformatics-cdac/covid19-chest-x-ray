{
 "cells": [
  {
   "cell_type": "code",
   "execution_count": 1,
   "metadata": {},
   "outputs": [],
   "source": [
    "from flask import Flask, render_template, request\n",
    "from PIL import Image\n",
    "from flask import send_from_directory\n",
    "import re\n",
    "import tensorflow as tf\n",
    "import os\n",
    "from tensorflow.keras.applications.xception import Xception\n",
    "from tensorflow.keras.preprocessing.image import ImageDataGenerator\n",
    "from tensorflow.keras.models import Sequential\n",
    "from tensorflow.keras.layers import Activation, Dropout, Flatten, Dense, Conv2D, MaxPooling2D\n",
    "from tensorflow.keras.optimizers import Adam\n",
    "\n",
    "import matplotlib.pyplot as plt\n",
    "\n"
   ]
  },
  {
   "cell_type": "code",
   "execution_count": 2,
   "metadata": {},
   "outputs": [],
   "source": [
    "import socket\n",
    "import threading\n",
    "import uuid\n",
    "from typing import Any, Callable, cast, Optional\n",
    "#from flask_cors import cross_origin\n",
    "from werkzeug.serving import run_simple"
   ]
  },
  {
   "cell_type": "code",
   "execution_count": 3,
   "metadata": {},
   "outputs": [],
   "source": [
    "checkpoint_path = 'checkpoints/weights.99-0.00.hdf5'"
   ]
  },
  {
   "cell_type": "code",
   "execution_count": 4,
   "metadata": {},
   "outputs": [],
   "source": [
    "input_shape = (256,256,3)\n"
   ]
  },
  {
   "cell_type": "code",
   "execution_count": 5,
   "metadata": {},
   "outputs": [],
   "source": [
    "\n",
    "def getModel():\n",
    "    \n",
    "    pretrained_model = Xception(input_shape = input_shape,\n",
    "                weights = 'imagenet',\n",
    "                layers=tf.keras.layers,\n",
    "                include_top = False)\n",
    "    pretrained_model.trainable = False\n",
    "    \n",
    "    for layer in pretrained_model.layers:\n",
    "        layer.trainable = False\n",
    "    \n",
    "    model = Sequential()\n",
    "\n",
    "    model.add(pretrained_model)\n",
    "\n",
    "    model.add(Flatten())\n",
    "\n",
    "    model.add(Dense(512))\n",
    "    model.add(Activation('relu'))\n",
    "    model.add(Dropout(0.5))\n",
    "\n",
    "    model.add(Dense(3))\n",
    "    model.add(Activation('softmax'))\n",
    "\n",
    "    model.summary()\n",
    "    return model"
   ]
  },
  {
   "cell_type": "code",
   "execution_count": 6,
   "metadata": {},
   "outputs": [
    {
     "name": "stdout",
     "output_type": "stream",
     "text": [
      "Model: \"sequential\"\n",
      "_________________________________________________________________\n",
      "Layer (type)                 Output Shape              Param #   \n",
      "=================================================================\n",
      "xception (Model)             (None, 8, 8, 2048)        20861480  \n",
      "_________________________________________________________________\n",
      "flatten (Flatten)            (None, 131072)            0         \n",
      "_________________________________________________________________\n",
      "dense (Dense)                (None, 512)               67109376  \n",
      "_________________________________________________________________\n",
      "activation (Activation)      (None, 512)               0         \n",
      "_________________________________________________________________\n",
      "dropout (Dropout)            (None, 512)               0         \n",
      "_________________________________________________________________\n",
      "dense_1 (Dense)              (None, 3)                 1539      \n",
      "_________________________________________________________________\n",
      "activation_1 (Activation)    (None, 3)                 0         \n",
      "=================================================================\n",
      "Total params: 87,972,395\n",
      "Trainable params: 67,110,915\n",
      "Non-trainable params: 20,861,480\n",
      "_________________________________________________________________\n"
     ]
    }
   ],
   "source": [
    "model = getModel()"
   ]
  },
  {
   "cell_type": "code",
   "execution_count": 7,
   "metadata": {},
   "outputs": [],
   "source": [
    "model.load_weights(checkpoint_path)"
   ]
  },
  {
   "cell_type": "code",
   "execution_count": 8,
   "metadata": {},
   "outputs": [],
   "source": [
    "# normalize images\n",
    "train_datagen = ImageDataGenerator(\n",
    "    samplewise_center=True,\n",
    "    samplewise_std_normalization= True)\n",
    "    \n",
    "\n",
    "target_size = (256,256)"
   ]
  },
  {
   "cell_type": "code",
   "execution_count": 9,
   "metadata": {},
   "outputs": [],
   "source": [
    "\n",
    "classes = ['normal', 'COVID-19', 'other_pneumonia']\n",
    "class_dict ={classes[i]: i for i in range(3)}"
   ]
  },
  {
   "cell_type": "code",
   "execution_count": null,
   "metadata": {},
   "outputs": [],
   "source": []
  },
  {
   "cell_type": "code",
   "execution_count": 10,
   "metadata": {},
   "outputs": [],
   "source": [
    "app = Flask(__name__, static_folder='./flask_app')"
   ]
  },
  {
   "cell_type": "code",
   "execution_count": 11,
   "metadata": {},
   "outputs": [
    {
     "name": "stdout",
     "output_type": "stream",
     "text": [
      "/lusnlsas/ramkik_data/covid19/covid/flask_app\n"
     ]
    }
   ],
   "source": [
    "root_dir=os.path.join(os.getcwd(),'flask_app')\n",
    "\n",
    "print(root_dir)\n"
   ]
  },
  {
   "cell_type": "code",
   "execution_count": 12,
   "metadata": {},
   "outputs": [],
   "source": [
    "@app.route('/assets/<path:filename>')\n",
    "#@cross_origin()\n",
    "def serve_static(filename):\n",
    "    return send_from_directory(os.path.join(root_dir,'assets/'),filename)\n",
    "\n",
    "@app.route('/result')\n",
    "def serve_result():\n",
    "    return send_from_directory(os.path.join(root_dir),'result.png')\n",
    "\n",
    "@app.route('/')\n",
    "def index_view():\n",
    "    return render_template('index.html')"
   ]
  },
  {
   "cell_type": "code",
   "execution_count": 13,
   "metadata": {},
   "outputs": [],
   "source": [
    "#@app.route('/predict',methods=['GET','POST'])\n",
    "def predict():\n",
    "    print(request.method)\n",
    "    f = request.files['image']\n",
    "    \n",
    "    file_path = os.path.join(root_dir, 'uploads', f.filename)\n",
    "    print(file_path)\n",
    "    f.save(file_path)\n",
    "    #file_path='/home/ramkik/covid19/static/uploads/E63574A7-4188-4C8D-8D17-9D67A18A1AFA.jpeg'\n",
    "    image = Image.open(file_path).convert('RGB')\n",
    "\n",
    "    image = transform(image)\n",
    "\n",
    "    normalize_image = normalize(image)\n",
    "    normalize_image = normalize_image.unsqueeze(0)\n",
    "    if torch.cuda.is_available():\n",
    "        normalize_image = normalize_image.cuda()\n",
    "        \n",
    "    #print(normalize_image.shape)\n",
    "    output = model(normalize_image)\n",
    "    print(output)\n",
    "\n",
    "#     output = F.softmax(output)\n",
    "#     print(output)\n",
    "    prediction_score, pred_label_idx = torch.topk(output, 1)\n",
    "    pred_label_idx.squeeze_()\n",
    "\n",
    "    print(normalize_image.shape)\n",
    "    mask, _ = gradcam(normalize_image)\n",
    "    heatmap, result = visualize_cam(mask, image)\n",
    "    mask_pp, _ = gradcam_pp(normalize_image)\n",
    "    heatmap_pp, result_pp = visualize_cam(mask_pp, image, alpha=1.0)\n",
    "\n",
    "    save_image(result, 'result.png', nrow=1)\n",
    "\n",
    "#         grad = transforms.ToPILImage()(result_pp)\n",
    "#         plt.imshow(grad)\n",
    "\n",
    "\n",
    "\n",
    "\n",
    "    response = {}\n",
    "    print('output : ',output)\n",
    "    print(pred_label_idx)\n",
    "    print(prediction_score)\n",
    "\n",
    "    response['class'] = classes[pred_label_idx.item()]\n",
    "    response['score'] = str(prediction_score.item())\n",
    "\n",
    "    return response"
   ]
  },
  {
   "cell_type": "code",
   "execution_count": 14,
   "metadata": {},
   "outputs": [
    {
     "name": "stderr",
     "output_type": "stream",
     "text": [
      " * Running on http://0.0.0.0:8000/ (Press CTRL+C to quit)\n"
     ]
    }
   ],
   "source": [
    "thread = threading.Thread(target=lambda: run_simple('0.0.0.0', 8000, app))\n",
    "thread.start()"
   ]
  },
  {
   "cell_type": "code",
   "execution_count": 15,
   "metadata": {},
   "outputs": [
    {
     "name": "stderr",
     "output_type": "stream",
     "text": [
      "No traceback available to show.\n",
      "10.208.0.229 - - [03/May/2020 20:00:20] \"\u001b[37mGET / HTTP/1.1\u001b[0m\" 200 -\n",
      "10.208.0.229 - - [03/May/2020 20:00:21] \"\u001b[37mGET /assets/vendor/bootstrap/css/bootstrap.min.css HTTP/1.1\u001b[0m\" 200 -\n",
      "10.208.0.229 - - [03/May/2020 20:00:29] \"\u001b[37mGET /assets/vendor/icofont/icofont.min.css HTTP/1.1\u001b[0m\" 200 -\n",
      "10.208.0.229 - - [03/May/2020 20:00:41] \"\u001b[37mGET /assets/vendor/venobox/venobox.css HTTP/1.1\u001b[0m\" 200 -\n",
      "10.208.0.229 - - [03/May/2020 20:00:41] \"\u001b[37mGET /assets/vendor/boxicons/css/boxicons.min.css HTTP/1.1\u001b[0m\" 200 -\n",
      "10.208.0.229 - - [03/May/2020 20:00:41] \"\u001b[37mGET /assets/vendor/owl.carousel/assets/owl.carousel.min.css HTTP/1.1\u001b[0m\" 200 -\n",
      "10.208.0.229 - - [03/May/2020 20:00:41] \"\u001b[37mGET /assets/vendor/aos/aos.css HTTP/1.1\u001b[0m\" 200 -\n",
      "10.208.0.229 - - [03/May/2020 20:00:49] \"\u001b[37mGET /assets/css/style.css HTTP/1.1\u001b[0m\" 200 -\n",
      "10.208.0.229 - - [03/May/2020 20:00:50] \"\u001b[37mGET /assets/vendor/jquery/jquery.min.js HTTP/1.1\u001b[0m\" 200 -\n",
      "10.208.0.229 - - [03/May/2020 20:00:57] \"\u001b[37mGET /assets/img/hero-img.png HTTP/1.1\u001b[0m\" 200 -\n",
      "10.208.0.229 - - [03/May/2020 20:00:57] \"\u001b[37mGET /assets/img/about.jpg HTTP/1.1\u001b[0m\" 200 -\n",
      "10.208.0.229 - - [03/May/2020 20:01:10] \"\u001b[37mGET /assets/vendor/boxicons/fonts/boxicons.woff2 HTTP/1.1\u001b[0m\" 200 -\n",
      "10.208.0.229 - - [03/May/2020 20:01:17] \"\u001b[37mGET /assets/vendor/icofont/fonts/icofont.woff2 HTTP/1.1\u001b[0m\" 200 -\n",
      "10.208.0.229 - - [03/May/2020 20:01:36] \"\u001b[37mGET / HTTP/1.1\u001b[0m\" 200 -\n",
      "10.208.0.229 - - [03/May/2020 20:01:36] \"\u001b[37mGET /assets/img/hero-bg.png HTTP/1.1\u001b[0m\" 200 -\n",
      "10.208.0.229 - - [03/May/2020 20:01:36] \"\u001b[37mGET /assets/vendor/bootstrap/js/bootstrap.bundle.min.js HTTP/1.1\u001b[0m\" 200 -\n"
     ]
    }
   ],
   "source": [
    "%tb"
   ]
  },
  {
   "cell_type": "code",
   "execution_count": null,
   "metadata": {},
   "outputs": [],
   "source": []
  }
 ],
 "metadata": {
  "kernelspec": {
   "display_name": "Python 3",
   "language": "python",
   "name": "python3"
  },
  "language_info": {
   "codemirror_mode": {
    "name": "ipython",
    "version": 3
   },
   "file_extension": ".py",
   "mimetype": "text/x-python",
   "name": "python",
   "nbconvert_exporter": "python",
   "pygments_lexer": "ipython3",
   "version": "3.7.7"
  }
 },
 "nbformat": 4,
 "nbformat_minor": 4
}
