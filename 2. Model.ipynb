{
 "cells": [
  {
   "cell_type": "code",
   "execution_count": 1,
   "metadata": {},
   "outputs": [
    {
     "name": "stdout",
     "output_type": "stream",
     "text": [
      "2.0.0\n"
     ]
    }
   ],
   "source": [
    "import tensorflow as tf\n",
    "print(tf.__version__)\n",
    "from tensorflow.keras.preprocessing.image import ImageDataGenerator\n",
    "from tensorflow.keras.models import Sequential\n",
    "from tensorflow.keras.layers import Activation, Dropout, Flatten, Dense, Conv2D, MaxPooling2D\n",
    "from tensorflow.keras.optimizers import Adam\n",
    "import numpy as np\n",
    "import matplotlib.pyplot as plt\n",
    "import pandas as pd\n",
    "import PIL\n",
    "import os\n",
    "from tensorflow.keras.applications.xception import Xception\n"
   ]
  },
  {
   "cell_type": "code",
   "execution_count": 2,
   "metadata": {},
   "outputs": [],
   "source": [
    "import tensorflow as tf"
   ]
  },
  {
   "cell_type": "code",
   "execution_count": 3,
   "metadata": {},
   "outputs": [],
   "source": [
    "logs = 'xception'\n",
    "checkpints_dir = 'checkpoints'"
   ]
  },
  {
   "cell_type": "code",
   "execution_count": 4,
   "metadata": {},
   "outputs": [],
   "source": [
    "os.environ[\"CUDA_VISIBLE_DEVICES\"] = \"1,2\""
   ]
  },
  {
   "cell_type": "code",
   "execution_count": 5,
   "metadata": {},
   "outputs": [
    {
     "data": {
      "text/plain": [
       "[PhysicalDevice(name='/physical_device:GPU:0', device_type='GPU'),\n",
       " PhysicalDevice(name='/physical_device:GPU:1', device_type='GPU')]"
      ]
     },
     "execution_count": 5,
     "metadata": {},
     "output_type": "execute_result"
    }
   ],
   "source": [
    "gpus = tf.config.experimental.list_physical_devices('GPU')\n",
    "gpus"
   ]
  },
  {
   "cell_type": "code",
   "execution_count": 6,
   "metadata": {},
   "outputs": [],
   "source": [
    "def check_rootfolders():\n",
    "    \"\"\"Create log and model folder\"\"\"\n",
    "    folders_util = [checkpints_dir, 'logs']\n",
    "    for folder in folders_util:\n",
    "        if not os.path.exists(folder):\n",
    "            print('creating folder ' + folder)\n",
    "            os.mkdir(folder)\n",
    "\n",
    "check_rootfolders()"
   ]
  },
  {
   "cell_type": "code",
   "execution_count": 7,
   "metadata": {},
   "outputs": [],
   "source": [
    "\n",
    "# train_datagen = ImageDataGenerator(rescale=1/255)\n",
    "# val_datagen = ImageDataGenerator(rescale=1/255)\n",
    "\n",
    "# normalize images\n",
    "train_datagen = ImageDataGenerator(\n",
    "    samplewise_center=True,\n",
    "    samplewise_std_normalization= True)\n",
    "    \n",
    "validation_datagen = ImageDataGenerator(\n",
    "    samplewise_center=True,\n",
    "    samplewise_std_normalization= True)\n",
    "target_size = (256,256)"
   ]
  },
  {
   "cell_type": "code",
   "execution_count": 8,
   "metadata": {},
   "outputs": [
    {
     "data": {
      "text/html": [
       "<div>\n",
       "<style scoped>\n",
       "    .dataframe tbody tr th:only-of-type {\n",
       "        vertical-align: middle;\n",
       "    }\n",
       "\n",
       "    .dataframe tbody tr th {\n",
       "        vertical-align: top;\n",
       "    }\n",
       "\n",
       "    .dataframe thead th {\n",
       "        text-align: right;\n",
       "    }\n",
       "</style>\n",
       "<table border=\"1\" class=\"dataframe\">\n",
       "  <thead>\n",
       "    <tr style=\"text-align: right;\">\n",
       "      <th></th>\n",
       "      <th>Unnamed: 0</th>\n",
       "      <th>filename</th>\n",
       "      <th>label</th>\n",
       "    </tr>\n",
       "  </thead>\n",
       "  <tbody>\n",
       "    <tr>\n",
       "      <th>0</th>\n",
       "      <td>1038</td>\n",
       "      <td>0c2e9b99-9a8f-4b44-854e-acd181a0208c.jpg</td>\n",
       "      <td>0</td>\n",
       "    </tr>\n",
       "    <tr>\n",
       "      <th>1</th>\n",
       "      <td>2922</td>\n",
       "      <td>34fdff09-5bc2-4df5-b8cf-3c37662037c8.jpg</td>\n",
       "      <td>2</td>\n",
       "    </tr>\n",
       "    <tr>\n",
       "      <th>2</th>\n",
       "      <td>1174</td>\n",
       "      <td>0ebc8268-df3d-45d8-8ee7-b34880c62830.jpg</td>\n",
       "      <td>2</td>\n",
       "    </tr>\n",
       "    <tr>\n",
       "      <th>3</th>\n",
       "      <td>341</td>\n",
       "      <td>06f1d0a2-d8c5-4229-9944-59da85c96b81.jpg</td>\n",
       "      <td>0</td>\n",
       "    </tr>\n",
       "    <tr>\n",
       "      <th>4</th>\n",
       "      <td>280</td>\n",
       "      <td>06951c33-b247-4daf-a087-cc082f83238b.jpg</td>\n",
       "      <td>0</td>\n",
       "    </tr>\n",
       "    <tr>\n",
       "      <th>...</th>\n",
       "      <td>...</td>\n",
       "      <td>...</td>\n",
       "      <td>...</td>\n",
       "    </tr>\n",
       "    <tr>\n",
       "      <th>940</th>\n",
       "      <td>1200</td>\n",
       "      <td>0f8c91da-7e03-480e-8760-1604b1d53c97.jpg</td>\n",
       "      <td>0</td>\n",
       "    </tr>\n",
       "    <tr>\n",
       "      <th>941</th>\n",
       "      <td>1151</td>\n",
       "      <td>0dbb83c1-2214-4152-ac69-d1e7e25453cb.jpg</td>\n",
       "      <td>0</td>\n",
       "    </tr>\n",
       "    <tr>\n",
       "      <th>942</th>\n",
       "      <td>499</td>\n",
       "      <td>081e308c-0134-4ba3-b745-f632e37a83a1.jpg</td>\n",
       "      <td>0</td>\n",
       "    </tr>\n",
       "    <tr>\n",
       "      <th>943</th>\n",
       "      <td>663</td>\n",
       "      <td>095d6b7c-fa53-4f06-90b9-5c5f76038f04.jpg</td>\n",
       "      <td>2</td>\n",
       "    </tr>\n",
       "    <tr>\n",
       "      <th>944</th>\n",
       "      <td>919</td>\n",
       "      <td>0b6a7730-a747-42ce-ac00-f3dcc34df307.jpg</td>\n",
       "      <td>0</td>\n",
       "    </tr>\n",
       "  </tbody>\n",
       "</table>\n",
       "<p>945 rows × 3 columns</p>\n",
       "</div>"
      ],
      "text/plain": [
       "     Unnamed: 0                                  filename  label\n",
       "0          1038  0c2e9b99-9a8f-4b44-854e-acd181a0208c.jpg      0\n",
       "1          2922  34fdff09-5bc2-4df5-b8cf-3c37662037c8.jpg      2\n",
       "2          1174  0ebc8268-df3d-45d8-8ee7-b34880c62830.jpg      2\n",
       "3           341  06f1d0a2-d8c5-4229-9944-59da85c96b81.jpg      0\n",
       "4           280  06951c33-b247-4daf-a087-cc082f83238b.jpg      0\n",
       "..          ...                                       ...    ...\n",
       "940        1200  0f8c91da-7e03-480e-8760-1604b1d53c97.jpg      0\n",
       "941        1151  0dbb83c1-2214-4152-ac69-d1e7e25453cb.jpg      0\n",
       "942         499  081e308c-0134-4ba3-b745-f632e37a83a1.jpg      0\n",
       "943         663  095d6b7c-fa53-4f06-90b9-5c5f76038f04.jpg      2\n",
       "944         919  0b6a7730-a747-42ce-ac00-f3dcc34df307.jpg      0\n",
       "\n",
       "[945 rows x 3 columns]"
      ]
     },
     "execution_count": 8,
     "metadata": {},
     "output_type": "execute_result"
    }
   ],
   "source": [
    "df = pd.read_csv(os.path.join(os.getcwd(), 'data', 'train.csv'))\n",
    "df"
   ]
  },
  {
   "cell_type": "code",
   "execution_count": 9,
   "metadata": {},
   "outputs": [
    {
     "data": {
      "text/html": [
       "<div>\n",
       "<style scoped>\n",
       "    .dataframe tbody tr th:only-of-type {\n",
       "        vertical-align: middle;\n",
       "    }\n",
       "\n",
       "    .dataframe tbody tr th {\n",
       "        vertical-align: top;\n",
       "    }\n",
       "\n",
       "    .dataframe thead th {\n",
       "        text-align: right;\n",
       "    }\n",
       "</style>\n",
       "<table border=\"1\" class=\"dataframe\">\n",
       "  <thead>\n",
       "    <tr style=\"text-align: right;\">\n",
       "      <th></th>\n",
       "      <th>Unnamed: 0</th>\n",
       "      <th>filename</th>\n",
       "      <th>label</th>\n",
       "    </tr>\n",
       "  </thead>\n",
       "  <tbody>\n",
       "    <tr>\n",
       "      <th>0</th>\n",
       "      <td>3923</td>\n",
       "      <td>3b8d4df3-3950-412b-9206-1cbb57c7943e.jpg</td>\n",
       "      <td>2</td>\n",
       "    </tr>\n",
       "    <tr>\n",
       "      <th>1</th>\n",
       "      <td>613</td>\n",
       "      <td>0902e0fc-fcf3-40b5-ac04-c3ecc14c2355.jpg</td>\n",
       "      <td>2</td>\n",
       "    </tr>\n",
       "    <tr>\n",
       "      <th>2</th>\n",
       "      <td>1082</td>\n",
       "      <td>0c9be296-285f-44dc-8599-afde00848e9d.jpg</td>\n",
       "      <td>0</td>\n",
       "    </tr>\n",
       "    <tr>\n",
       "      <th>3</th>\n",
       "      <td>3603</td>\n",
       "      <td>39693e31-b11e-4cd5-a626-2862cb0ede1d.jpg</td>\n",
       "      <td>2</td>\n",
       "    </tr>\n",
       "    <tr>\n",
       "      <th>4</th>\n",
       "      <td>2700</td>\n",
       "      <td>339d0607-e869-4869-ac6d-379172682713.jpg</td>\n",
       "      <td>2</td>\n",
       "    </tr>\n",
       "    <tr>\n",
       "      <th>...</th>\n",
       "      <td>...</td>\n",
       "      <td>...</td>\n",
       "      <td>...</td>\n",
       "    </tr>\n",
       "    <tr>\n",
       "      <th>100</th>\n",
       "      <td>975</td>\n",
       "      <td>0bcfe7ee-ada5-48de-990b-2a2fd6c6ed15.jpg</td>\n",
       "      <td>2</td>\n",
       "    </tr>\n",
       "    <tr>\n",
       "      <th>101</th>\n",
       "      <td>268</td>\n",
       "      <td>06737bed-8dc1-47d9-8c30-324282dcc84d.jpg</td>\n",
       "      <td>2</td>\n",
       "    </tr>\n",
       "    <tr>\n",
       "      <th>102</th>\n",
       "      <td>3815</td>\n",
       "      <td>3adf7f71-3ded-406d-a08c-a61d152f78dc.jpg</td>\n",
       "      <td>2</td>\n",
       "    </tr>\n",
       "    <tr>\n",
       "      <th>103</th>\n",
       "      <td>2908</td>\n",
       "      <td>34e19eb5-78d1-42b9-bc47-b043d97feefb.jpg</td>\n",
       "      <td>2</td>\n",
       "    </tr>\n",
       "    <tr>\n",
       "      <th>104</th>\n",
       "      <td>723</td>\n",
       "      <td>09c869c1-27a6-48cc-bb9c-3eeed5863564.jpg</td>\n",
       "      <td>0</td>\n",
       "    </tr>\n",
       "  </tbody>\n",
       "</table>\n",
       "<p>105 rows × 3 columns</p>\n",
       "</div>"
      ],
      "text/plain": [
       "     Unnamed: 0                                  filename  label\n",
       "0          3923  3b8d4df3-3950-412b-9206-1cbb57c7943e.jpg      2\n",
       "1           613  0902e0fc-fcf3-40b5-ac04-c3ecc14c2355.jpg      2\n",
       "2          1082  0c9be296-285f-44dc-8599-afde00848e9d.jpg      0\n",
       "3          3603  39693e31-b11e-4cd5-a626-2862cb0ede1d.jpg      2\n",
       "4          2700  339d0607-e869-4869-ac6d-379172682713.jpg      2\n",
       "..          ...                                       ...    ...\n",
       "100         975  0bcfe7ee-ada5-48de-990b-2a2fd6c6ed15.jpg      2\n",
       "101         268  06737bed-8dc1-47d9-8c30-324282dcc84d.jpg      2\n",
       "102        3815  3adf7f71-3ded-406d-a08c-a61d152f78dc.jpg      2\n",
       "103        2908  34e19eb5-78d1-42b9-bc47-b043d97feefb.jpg      2\n",
       "104         723  09c869c1-27a6-48cc-bb9c-3eeed5863564.jpg      0\n",
       "\n",
       "[105 rows x 3 columns]"
      ]
     },
     "execution_count": 9,
     "metadata": {},
     "output_type": "execute_result"
    }
   ],
   "source": [
    "val_df = pd.read_csv(os.path.join(os.getcwd(), 'data', 'test.csv'))\n",
    "val_df"
   ]
  },
  {
   "cell_type": "code",
   "execution_count": 10,
   "metadata": {},
   "outputs": [],
   "source": [
    "batch_size=128"
   ]
  },
  {
   "cell_type": "code",
   "execution_count": 11,
   "metadata": {},
   "outputs": [
    {
     "name": "stdout",
     "output_type": "stream",
     "text": [
      "Found 945 validated image filenames.\n",
      "Found 26 validated image filenames.\n"
     ]
    },
    {
     "name": "stderr",
     "output_type": "stream",
     "text": [
      "/home/ramkik/anaconda3/envs/tf/lib/python3.7/site-packages/keras_preprocessing/image/dataframe_iterator.py:273: UserWarning: Found 79 invalid image filename(s) in x_col=\"filename\". These filename(s) will be ignored.\n",
      "  .format(n_invalid, x_col)\n"
     ]
    }
   ],
   "source": [
    "# train_data_gen = train_datagen.flow_from_directory(train_path,\n",
    "#                                                target_size=target_size,\n",
    "#                                                batch_size=32,\n",
    "#                                                class_mode='categorical')\n",
    "\n",
    "image_dir =os.path.join(os.getcwd(), 'data','train')\n",
    "train_generator = train_datagen.flow_from_dataframe(\n",
    "            dataframe=df,\n",
    "            directory=image_dir,\n",
    "            x_col='filename',\n",
    "            y_col='label',\n",
    "            class_mode=\"raw\",\n",
    "            batch_size=batch_size,\n",
    "            shuffle=True,\n",
    "            #seed=seed,\n",
    "            target_size=target_size)\n",
    "\n",
    "val_image_dir =os.path.join(os.getcwd(), 'data','test')\n",
    "val_generator = train_datagen.flow_from_dataframe(\n",
    "            dataframe=val_df,\n",
    "            directory=image_dir,\n",
    "            x_col='filename',\n",
    "            y_col='label',\n",
    "            class_mode=\"raw\",\n",
    "            batch_size=batch_size,\n",
    "            shuffle=False,\n",
    "            #seed=seed,\n",
    "            target_size=target_size)"
   ]
  },
  {
   "cell_type": "code",
   "execution_count": 12,
   "metadata": {},
   "outputs": [
    {
     "data": {
      "text/plain": [
       "'/lusnlsas/ramkik_data/covid19/covid/data/train'"
      ]
     },
     "execution_count": 12,
     "metadata": {},
     "output_type": "execute_result"
    }
   ],
   "source": [
    "image_dir"
   ]
  },
  {
   "cell_type": "code",
   "execution_count": 13,
   "metadata": {},
   "outputs": [],
   "source": [
    "batch = train_generator.next()"
   ]
  },
  {
   "cell_type": "code",
   "execution_count": 14,
   "metadata": {},
   "outputs": [],
   "source": [
    "#batch[0]"
   ]
  },
  {
   "cell_type": "code",
   "execution_count": 15,
   "metadata": {},
   "outputs": [
    {
     "name": "stderr",
     "output_type": "stream",
     "text": [
      "Clipping input data to the valid range for imshow with RGB data ([0..1] for floats or [0..255] for integers).\n"
     ]
    },
    {
     "data": {
      "image/png": "[encoded data removed]",
      "text/plain": [
       "<Figure size 432x288 with 1 Axes>"
      ]
     },
     "metadata": {
      "needs_background": "light"
     },
     "output_type": "display_data"
    }
   ],
   "source": [
    "x, y = train_generator.__getitem__(0)\n",
    "plt.imshow(x[0]);"
   ]
  },
  {
   "cell_type": "code",
   "execution_count": 16,
   "metadata": {},
   "outputs": [],
   "source": [
    "#train_generator.labels"
   ]
  },
  {
   "cell_type": "code",
   "execution_count": 17,
   "metadata": {},
   "outputs": [
    {
     "data": {
      "text/plain": [
       "array([408, 114, 423])"
      ]
     },
     "execution_count": 17,
     "metadata": {},
     "output_type": "execute_result"
    }
   ],
   "source": [
    "df.groupby('label').count().values[:,0]"
   ]
  },
  {
   "cell_type": "code",
   "execution_count": 18,
   "metadata": {},
   "outputs": [],
   "source": [
    "classes = ['normal', 'COVID-19', 'other_pneumonia']"
   ]
  },
  {
   "cell_type": "code",
   "execution_count": 19,
   "metadata": {},
   "outputs": [
    {
     "data": {
      "image/png": "[encoded data removed]",
      "text/plain": [
       "<Figure size 432x288 with 1 Axes>"
      ]
     },
     "metadata": {
      "needs_background": "light"
     },
     "output_type": "display_data"
    }
   ],
   "source": [
    "plt.xticks(rotation=90)\n",
    "plt.bar(x=classes, height=df.groupby('label').count().values[:,0])\n",
    "plt.title(\"Frequency of Each Class\")\n",
    "plt.show()"
   ]
  },
  {
   "cell_type": "code",
   "execution_count": 20,
   "metadata": {},
   "outputs": [
    {
     "data": {
      "image/png": "[encoded data removed]",
      "text/plain": [
       "<Figure size 432x288 with 1 Axes>"
      ]
     },
     "metadata": {
      "needs_background": "light"
     },
     "output_type": "display_data"
    }
   ],
   "source": [
    "plt.xticks(rotation=90)\n",
    "plt.bar(x=classes, height=val_df.groupby('label').count().values[:,0])\n",
    "plt.title(\"Frequency of Each Class\")\n",
    "plt.show()"
   ]
  },
  {
   "cell_type": "code",
   "execution_count": null,
   "metadata": {},
   "outputs": [],
   "source": []
  },
  {
   "cell_type": "code",
   "execution_count": 21,
   "metadata": {},
   "outputs": [],
   "source": [
    "input_shape = (256,256,3)\n"
   ]
  },
  {
   "cell_type": "code",
   "execution_count": 1,
   "metadata": {},
   "outputs": [],
   "source": [
    "\n",
    "def getModel():\n",
    "    \n",
    "    pretrained_model = Xception(input_shape = input_shape,\n",
    "                weights = 'imagenet',\n",
    "                layers=tf.keras.layers,\n",
    "                include_top = False)\n",
    "    pretrained_model.trainable = False\n",
    "    pretrained_model.summary()\n",
    "    \n",
    "    for layer in pretrained_model.layers:\n",
    "        layer.trainable = False\n",
    "    \n",
    "    model = Sequential()\n",
    "\n",
    "    model.add(pretrained_model)\n",
    "\n",
    "    model.add(Flatten())\n",
    "\n",
    "    model.add(Dense(512))\n",
    "    model.add(Activation('relu'))\n",
    "    model.add(Dropout(0.5))\n",
    "\n",
    "    model.add(Dense(3))\n",
    "    model.add(Activation('softmax'))\n",
    "\n",
    "    model.summary()\n",
    "    return model"
   ]
  },
  {
   "cell_type": "code",
   "execution_count": 2,
   "metadata": {},
   "outputs": [
    {
     "ename": "NameError",
     "evalue": "name 'os' is not defined",
     "output_type": "error",
     "traceback": [
      "\u001b[0;31m---------------------------------------------------------------------------\u001b[0m",
      "\u001b[0;31mNameError\u001b[0m                                 Traceback (most recent call last)",
      "\u001b[0;32m<ipython-input-2-2d54f9e90311>\u001b[0m in \u001b[0;36m<module>\u001b[0;34m\u001b[0m\n\u001b[1;32m      9\u001b[0m patience=20)\n\u001b[1;32m     10\u001b[0m \u001b[0;34m\u001b[0m\u001b[0m\n\u001b[0;32m---> 11\u001b[0;31m \u001b[0mmc\u001b[0m \u001b[0;34m=\u001b[0m \u001b[0mModelCheckpoint\u001b[0m\u001b[0;34m(\u001b[0m\u001b[0mos\u001b[0m\u001b[0;34m.\u001b[0m\u001b[0mpath\u001b[0m\u001b[0;34m.\u001b[0m\u001b[0mjoin\u001b[0m\u001b[0;34m(\u001b[0m\u001b[0mos\u001b[0m\u001b[0;34m.\u001b[0m\u001b[0mgetcwd\u001b[0m\u001b[0;34m(\u001b[0m\u001b[0;34m)\u001b[0m\u001b[0;34m,\u001b[0m \u001b[0mcheckpints_dir\u001b[0m\u001b[0;34m,\u001b[0m \u001b[0;34m'weights.{epoch:02d}-{val_loss:.2f}.hdf5'\u001b[0m\u001b[0;34m)\u001b[0m\u001b[0;34m,\u001b[0m \u001b[0mmonitor\u001b[0m\u001b[0;34m=\u001b[0m\u001b[0;34m'val_accuracy'\u001b[0m\u001b[0;34m,\u001b[0m \u001b[0mmode\u001b[0m\u001b[0;34m=\u001b[0m\u001b[0;34m'max'\u001b[0m\u001b[0;34m,\u001b[0m \u001b[0mverbose\u001b[0m\u001b[0;34m=\u001b[0m\u001b[0;36m1\u001b[0m\u001b[0;34m,\u001b[0m \u001b[0msave_best_only\u001b[0m\u001b[0;34m=\u001b[0m\u001b[0;32mFalse\u001b[0m\u001b[0;34m)\u001b[0m\u001b[0;34m\u001b[0m\u001b[0;34m\u001b[0m\u001b[0m\n\u001b[0m\u001b[1;32m     12\u001b[0m \u001b[0mtb\u001b[0m \u001b[0;34m=\u001b[0m \u001b[0mTensorBoard\u001b[0m\u001b[0;34m(\u001b[0m\u001b[0mlog_dir\u001b[0m\u001b[0;34m=\u001b[0m\u001b[0;34m'./logs/'\u001b[0m\u001b[0;34m+\u001b[0m\u001b[0mlogs\u001b[0m\u001b[0;34m)\u001b[0m\u001b[0;34m\u001b[0m\u001b[0;34m\u001b[0m\u001b[0m\n",
      "\u001b[0;31mNameError\u001b[0m: name 'os' is not defined"
     ]
    }
   ],
   "source": [
    "\n",
    "# Define early stopping and model checkpoint for optimizing epoch number and saving the best model\n",
    "\n",
    "from tensorflow.keras.callbacks import EarlyStopping\n",
    "from tensorflow.keras.callbacks import ModelCheckpoint\n",
    "from tensorflow.keras.callbacks import TensorBoard\n",
    "\n",
    "\n",
    "es = EarlyStopping(monitor='val_loss', mode='min', verbose=1,\n",
    "patience=20)\n",
    "\n",
    "mc = ModelCheckpoint(os.path.join(os.getcwd(), checkpints_dir, 'weights.{epoch:02d}-{val_loss:.2f}.hdf5'), monitor='val_accuracy', mode='max', verbose=1, save_best_only=False)\n",
    "tb = TensorBoard(log_dir='./logs/'+logs)"
   ]
  },
  {
   "cell_type": "code",
   "execution_count": null,
   "metadata": {},
   "outputs": [],
   "source": []
  },
  {
   "cell_type": "code",
   "execution_count": 24,
   "metadata": {},
   "outputs": [],
   "source": [
    "mirrored_strategy = tf.distribute.MirroredStrategy()\n"
   ]
  },
  {
   "cell_type": "code",
   "execution_count": 25,
   "metadata": {},
   "outputs": [
    {
     "data": {
      "text/plain": [
       "945"
      ]
     },
     "execution_count": 25,
     "metadata": {},
     "output_type": "execute_result"
    }
   ],
   "source": [
    "train_generator.samples"
   ]
  },
  {
   "cell_type": "code",
   "execution_count": 26,
   "metadata": {},
   "outputs": [
    {
     "data": {
      "text/plain": [
       "128"
      ]
     },
     "execution_count": 26,
     "metadata": {},
     "output_type": "execute_result"
    }
   ],
   "source": [
    "train_generator.batch_size"
   ]
  },
  {
   "cell_type": "code",
   "execution_count": 27,
   "metadata": {},
   "outputs": [
    {
     "name": "stdout",
     "output_type": "stream",
     "text": [
      "INFO:tensorflow:Reduce to /job:localhost/replica:0/task:0/device:CPU:0 then broadcast to ('/job:localhost/replica:0/task:0/device:CPU:0',).\n",
      "INFO:tensorflow:Reduce to /job:localhost/replica:0/task:0/device:CPU:0 then broadcast to ('/job:localhost/replica:0/task:0/device:CPU:0',).\n",
      "INFO:tensorflow:Reduce to /job:localhost/replica:0/task:0/device:CPU:0 then broadcast to ('/job:localhost/replica:0/task:0/device:CPU:0',).\n",
      "INFO:tensorflow:Reduce to /job:localhost/replica:0/task:0/device:CPU:0 then broadcast to ('/job:localhost/replica:0/task:0/device:CPU:0',).\n",
      "INFO:tensorflow:Reduce to /job:localhost/replica:0/task:0/device:CPU:0 then broadcast to ('/job:localhost/replica:0/task:0/device:CPU:0',).\n",
      "INFO:tensorflow:Reduce to /job:localhost/replica:0/task:0/device:CPU:0 then broadcast to ('/job:localhost/replica:0/task:0/device:CPU:0',).\n",
      "INFO:tensorflow:Reduce to /job:localhost/replica:0/task:0/device:CPU:0 then broadcast to ('/job:localhost/replica:0/task:0/device:CPU:0',).\n",
      "INFO:tensorflow:Reduce to /job:localhost/replica:0/task:0/device:CPU:0 then broadcast to ('/job:localhost/replica:0/task:0/device:CPU:0',).\n",
      "INFO:tensorflow:Reduce to /job:localhost/replica:0/task:0/device:CPU:0 then broadcast to ('/job:localhost/replica:0/task:0/device:CPU:0',).\n",
      "INFO:tensorflow:Reduce to /job:localhost/replica:0/task:0/device:CPU:0 then broadcast to ('/job:localhost/replica:0/task:0/device:CPU:0',).\n",
      "Model: \"sequential\"\n",
      "_________________________________________________________________\n",
      "Layer (type)                 Output Shape              Param #   \n",
      "=================================================================\n",
      "xception (Model)             (None, 8, 8, 2048)        20861480  \n",
      "_________________________________________________________________\n",
      "flatten (Flatten)            (None, 131072)            0         \n",
      "_________________________________________________________________\n",
      "dense (Dense)                (None, 512)               67109376  \n",
      "_________________________________________________________________\n",
      "activation (Activation)      (None, 512)               0         \n",
      "_________________________________________________________________\n",
      "dropout (Dropout)            (None, 512)               0         \n",
      "_________________________________________________________________\n",
      "dense_1 (Dense)              (None, 3)                 1539      \n",
      "_________________________________________________________________\n",
      "activation_1 (Activation)    (None, 3)                 0         \n",
      "=================================================================\n",
      "Total params: 87,972,395\n",
      "Trainable params: 67,110,915\n",
      "Non-trainable params: 20,861,480\n",
      "_________________________________________________________________\n",
      "Train for 7.3828125 steps, validate for 0.203125 steps\n",
      "Epoch 1/20\n",
      "INFO:tensorflow:batch_all_reduce: 4 all-reduces with algorithm = nccl, num_packs = 1, agg_small_grads_max_bytes = 0 and agg_small_grads_max_group = 10\n",
      "INFO:tensorflow:batch_all_reduce: 4 all-reduces with algorithm = nccl, num_packs = 1, agg_small_grads_max_bytes = 0 and agg_small_grads_max_group = 10\n",
      "7/7 [===========================>..] - ETA: 2s - loss: 41.6380 - accuracy: 0.4639\n",
      "Epoch 00001: saving model to /lusnlsas/ramkik_data/covid19/covid/checkpoints/weights.01-4.40.hdf5\n",
      "8/7 [================================] - 45s 6s/step - loss: 39.2996 - accuracy: 0.4624 - val_loss: 4.3968 - val_accuracy: 0.9231\n",
      "Epoch 2/20\n",
      "7/7 [===========================>..] - ETA: 0s - loss: 9.1319 - accuracy: 0.4896\n",
      "Epoch 00002: saving model to /lusnlsas/ramkik_data/covid19/covid/checkpoints/weights.02-2.51.hdf5\n",
      "8/7 [================================] - 16s 2s/step - loss: 8.6463 - accuracy: 0.5079 - val_loss: 2.5130 - val_accuracy: 0.8462\n",
      "Epoch 3/20\n",
      "7/7 [===========================>..] - ETA: 0s - loss: 5.5939 - accuracy: 0.5973\n",
      "Epoch 00003: saving model to /lusnlsas/ramkik_data/covid19/covid/checkpoints/weights.03-2.60.hdf5\n",
      "8/7 [================================] - 15s 2s/step - loss: 5.2624 - accuracy: 0.6042 - val_loss: 2.6044 - val_accuracy: 0.8462\n",
      "Epoch 4/20\n",
      "7/7 [===========================>..] - ETA: 0s - loss: 1.3259 - accuracy: 0.6928\n",
      "Epoch 00004: saving model to /lusnlsas/ramkik_data/covid19/covid/checkpoints/weights.04-2.64.hdf5\n",
      "8/7 [================================] - 15s 2s/step - loss: 1.2795 - accuracy: 0.6921 - val_loss: 2.6361 - val_accuracy: 0.8077\n",
      "Epoch 5/20\n",
      "7/7 [===========================>..] - ETA: 0s - loss: 0.5688 - accuracy: 0.7528\n",
      "Epoch 00005: saving model to /lusnlsas/ramkik_data/covid19/covid/checkpoints/weights.05-1.92.hdf5\n",
      "8/7 [================================] - 15s 2s/step - loss: 0.5788 - accuracy: 0.7471 - val_loss: 1.9183 - val_accuracy: 0.8846\n",
      "Epoch 6/20\n",
      "7/7 [===========================>..] - ETA: 0s - loss: 0.5698 - accuracy: 0.7500\n",
      "Epoch 00006: saving model to /lusnlsas/ramkik_data/covid19/covid/checkpoints/weights.06-2.47.hdf5\n",
      "8/7 [================================] - 16s 2s/step - loss: 0.5233 - accuracy: 0.7598 - val_loss: 2.4663 - val_accuracy: 0.9231\n",
      "Epoch 7/20\n",
      "7/7 [===========================>..] - ETA: 0s - loss: 0.4381 - accuracy: 0.8127\n",
      "Epoch 00007: saving model to /lusnlsas/ramkik_data/covid19/covid/checkpoints/weights.07-1.10.hdf5\n",
      "8/7 [================================] - 15s 2s/step - loss: 0.4589 - accuracy: 0.8085 - val_loss: 1.0983 - val_accuracy: 0.9615\n",
      "Epoch 8/20\n",
      "7/7 [===========================>..] - ETA: 0s - loss: 0.4458 - accuracy: 0.8025\n",
      "Epoch 00008: saving model to /lusnlsas/ramkik_data/covid19/covid/checkpoints/weights.08-1.06.hdf5\n",
      "8/7 [================================] - 15s 2s/step - loss: 0.4191 - accuracy: 0.8085 - val_loss: 1.0573 - val_accuracy: 0.9615\n",
      "Epoch 9/20\n",
      "7/7 [===========================>..] - ETA: 0s - loss: 0.3486 - accuracy: 0.8372\n",
      "Epoch 00009: saving model to /lusnlsas/ramkik_data/covid19/covid/checkpoints/weights.09-0.74.hdf5\n",
      "8/7 [================================] - 15s 2s/step - loss: 0.3540 - accuracy: 0.8392 - val_loss: 0.7437 - val_accuracy: 0.9615\n",
      "Epoch 10/20\n",
      "7/7 [===========================>..] - ETA: 0s - loss: 0.3094 - accuracy: 0.8641\n",
      "Epoch 00010: saving model to /lusnlsas/ramkik_data/covid19/covid/checkpoints/weights.10-0.60.hdf5\n",
      "8/7 [================================] - 15s 2s/step - loss: 0.3139 - accuracy: 0.8646 - val_loss: 0.5960 - val_accuracy: 0.9615\n",
      "Epoch 11/20\n",
      "7/7 [===========================>..] - ETA: 0s - loss: 0.2508 - accuracy: 0.9009\n",
      "Epoch 00011: saving model to /lusnlsas/ramkik_data/covid19/covid/checkpoints/weights.11-0.46.hdf5\n",
      "8/7 [================================] - 15s 2s/step - loss: 0.2594 - accuracy: 0.8995 - val_loss: 0.4578 - val_accuracy: 1.0000\n",
      "Epoch 12/20\n",
      "7/7 [===========================>..] - ETA: 0s - loss: 0.2400 - accuracy: 0.9082\n",
      "Epoch 00012: saving model to /lusnlsas/ramkik_data/covid19/covid/checkpoints/weights.12-0.42.hdf5\n",
      "8/7 [================================] - 15s 2s/step - loss: 0.2372 - accuracy: 0.9122 - val_loss: 0.4162 - val_accuracy: 1.0000\n",
      "Epoch 13/20\n",
      "7/7 [===========================>..] - ETA: 0s - loss: 0.2284 - accuracy: 0.9252\n",
      "Epoch 00013: saving model to /lusnlsas/ramkik_data/covid19/covid/checkpoints/weights.13-0.43.hdf5\n",
      "8/7 [================================] - 15s 2s/step - loss: 0.2138 - accuracy: 0.9270 - val_loss: 0.4317 - val_accuracy: 1.0000\n",
      "Epoch 14/20\n",
      "7/7 [===========================>..] - ETA: 0s - loss: 0.1730 - accuracy: 0.9376\n",
      "Epoch 00014: saving model to /lusnlsas/ramkik_data/covid19/covid/checkpoints/weights.14-0.25.hdf5\n",
      "8/7 [================================] - 15s 2s/step - loss: 0.1728 - accuracy: 0.9397 - val_loss: 0.2547 - val_accuracy: 1.0000\n",
      "Epoch 15/20\n",
      "7/7 [===========================>..] - ETA: 0s - loss: 0.1542 - accuracy: 0.9400\n",
      "Epoch 00015: saving model to /lusnlsas/ramkik_data/covid19/covid/checkpoints/weights.15-0.21.hdf5\n",
      "8/7 [================================] - 15s 2s/step - loss: 0.1573 - accuracy: 0.9429 - val_loss: 0.2055 - val_accuracy: 1.0000\n",
      "Epoch 16/20\n",
      "7/7 [===========================>..] - ETA: 0s - loss: 0.1281 - accuracy: 0.9547\n",
      "Epoch 00016: saving model to /lusnlsas/ramkik_data/covid19/covid/checkpoints/weights.16-0.23.hdf5\n",
      "8/7 [================================] - 15s 2s/step - loss: 0.1320 - accuracy: 0.9524 - val_loss: 0.2266 - val_accuracy: 1.0000\n",
      "Epoch 17/20\n",
      "7/7 [===========================>..] - ETA: 0s - loss: 0.1199 - accuracy: 0.9572\n",
      "Epoch 00017: saving model to /lusnlsas/ramkik_data/covid19/covid/checkpoints/weights.17-0.29.hdf5\n",
      "8/7 [================================] - 15s 2s/step - loss: 0.1215 - accuracy: 0.9587 - val_loss: 0.2904 - val_accuracy: 1.0000\n",
      "Epoch 18/20\n",
      "7/7 [===========================>..] - ETA: 0s - loss: 0.1273 - accuracy: 0.9510\n",
      "Epoch 00018: saving model to /lusnlsas/ramkik_data/covid19/covid/checkpoints/weights.18-0.19.hdf5\n",
      "8/7 [================================] - 15s 2s/step - loss: 0.1241 - accuracy: 0.9534 - val_loss: 0.1915 - val_accuracy: 1.0000\n",
      "Epoch 19/20\n",
      "7/7 [===========================>..] - ETA: 0s - loss: 0.1086 - accuracy: 0.9682\n",
      "Epoch 00019: saving model to /lusnlsas/ramkik_data/covid19/covid/checkpoints/weights.19-0.08.hdf5\n",
      "8/7 [================================] - 15s 2s/step - loss: 0.1158 - accuracy: 0.9661 - val_loss: 0.0805 - val_accuracy: 1.0000\n",
      "Epoch 20/20\n",
      "7/7 [===========================>..] - ETA: 0s - loss: 0.1054 - accuracy: 0.9621\n",
      "Epoch 00020: saving model to /lusnlsas/ramkik_data/covid19/covid/checkpoints/weights.20-0.07.hdf5\n",
      "8/7 [================================] - 15s 2s/step - loss: 0.1045 - accuracy: 0.9630 - val_loss: 0.0687 - val_accuracy: 1.0000\n"
     ]
    }
   ],
   "source": [
    "with mirrored_strategy.scope():\n",
    "    model = getModel()\n",
    "    model.compile(loss='sparse_categorical_crossentropy', optimizer='adam', metrics=['accuracy'])\n",
    "\n",
    "    epochs = 20\n",
    "    history = model.fit(train_generator,\n",
    "                                  steps_per_epoch=train_generator.samples/train_generator.batch_size,\n",
    "                                  epochs=epochs,\n",
    "                                  validation_data=val_generator,\n",
    "                                  validation_steps=val_generator.samples/val_generator.batch_size,\n",
    "                                  callbacks=[es,mc,tb] )"
   ]
  },
  {
   "cell_type": "code",
   "execution_count": 30,
   "metadata": {},
   "outputs": [
    {
     "name": "stdout",
     "output_type": "stream",
     "text": [
      "mkdir: cannot create directory ‘models’: File exists\n"
     ]
    }
   ],
   "source": [
    "!mkdir models"
   ]
  },
  {
   "cell_type": "code",
   "execution_count": 37,
   "metadata": {
    "colab": {
     "base_uri": "https://localhost:8080/",
     "height": 136
    },
    "colab_type": "code",
    "id": "0w5Rq8SsgWE6",
    "outputId": "0c318fa8-4368-4b9d-d7c6-d9d35b8f6aad"
   },
   "outputs": [
    {
     "name": "stdout",
     "output_type": "stream",
     "text": [
      "export_path = models/1\n",
      "\n",
      "\n",
      "Already saved a model, cleaning up\n",
      "\n",
      "INFO:tensorflow:Assets written to: models/1/assets\n",
      "\n",
      "Saved model:\n",
      "total 9\n",
      "drwxr-xr-x 2 ramkik bioinfo    4096 May  2 22:53 assets\n",
      "-rw-r--r-- 1 ramkik bioinfo 4182103 May  2 22:53 saved_model.pb\n",
      "drwxr-xr-x 2 ramkik bioinfo    4096 May  2 22:53 variables\n"
     ]
    }
   ],
   "source": [
    "# Fetch the Keras session and save the model\n",
    "# The signature definition is defined by the input and output tensors,\n",
    "# and stored with the default serving key\n",
    "\n",
    "MODEL_DIR = 'models'\n",
    "version = 1\n",
    "export_path = os.path.join(MODEL_DIR, str(version))\n",
    "os.environ['export_path'] = export_path\n",
    "print('export_path = {}\\n'.format(export_path))\n",
    "if os.path.isdir(export_path):\n",
    "    print('\\nAlready saved a model, cleaning up\\n')\n",
    "    !rm -r {export_path}\n",
    "\n",
    "tf.saved_model.save(\n",
    "    model,\n",
    "    export_path)\n",
    "\n",
    "print('\\nSaved model:')\n",
    "!ls -l {export_path}"
   ]
  },
  {
   "cell_type": "code",
   "execution_count": 38,
   "metadata": {},
   "outputs": [
    {
     "name": "stdout",
     "output_type": "stream",
     "text": [
      "\n",
      "MetaGraphDef with tag-set: 'serve' contains the following SignatureDefs:\n",
      "\n",
      "signature_def['__saved_model_init_op']:\n",
      "  The given SavedModel SignatureDef contains the following input(s):\n",
      "  The given SavedModel SignatureDef contains the following output(s):\n",
      "    outputs['__saved_model_init_op'] tensor_info:\n",
      "        dtype: DT_INVALID\n",
      "        shape: unknown_rank\n",
      "        name: NoOp\n",
      "  Method name is: \n",
      "\n",
      "signature_def['serving_default']:\n",
      "  The given SavedModel SignatureDef contains the following input(s):\n",
      "    inputs['xception_input'] tensor_info:\n",
      "        dtype: DT_FLOAT\n",
      "        shape: (-1, 256, 256, 3)\n",
      "        name: serving_default_xception_input:0\n",
      "  The given SavedModel SignatureDef contains the following output(s):\n",
      "    outputs['activation_1'] tensor_info:\n",
      "        dtype: DT_FLOAT\n",
      "        shape: (-1, 3)\n",
      "        name: StatefulPartitionedCall:0\n",
      "  Method name is: tensorflow/serving/predict\n"
     ]
    }
   ],
   "source": [
    "!saved_model_cli show --dir {export_path} --all"
   ]
  },
  {
   "cell_type": "code",
   "execution_count": null,
   "metadata": {},
   "outputs": [],
   "source": []
  }
 ],
 "metadata": {
  "kernelspec": {
   "display_name": "Python 3",
   "language": "python",
   "name": "python3"
  },
  "language_info": {
   "codemirror_mode": {
    "name": "ipython",
    "version": 3
   },
   "file_extension": ".py",
   "mimetype": "text/x-python",
   "name": "python",
   "nbconvert_exporter": "python",
   "pygments_lexer": "ipython3",
   "version": "3.7.7"
  }
 },
 "nbformat": 4,
 "nbformat_minor": 4
}
