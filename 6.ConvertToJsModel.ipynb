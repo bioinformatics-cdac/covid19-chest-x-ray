{
 "cells": [
  {
   "cell_type": "code",
   "execution_count": 34,
   "metadata": {},
   "outputs": [],
   "source": [
    "import os"
   ]
  },
  {
   "cell_type": "code",
   "execution_count": 35,
   "metadata": {},
   "outputs": [
    {
     "name": "stdout",
     "output_type": "stream",
     "text": [
      "weights.01-2.15.hdf5   weights.15-0.38.hdf5  weights.58-0.03.hdf5\n",
      "weights.02-1.91.hdf5   weights.16-0.36.hdf5  weights.59-0.01.hdf5\n",
      "weights.03-1.33.hdf5   weights.17-0.47.hdf5  weights.60-0.01.hdf5\n",
      "weights.04-1.07.hdf5   weights.18-0.21.hdf5  weights.61-0.01.hdf5\n",
      "weights.05-1.32.hdf5   weights.19-0.29.hdf5  weights.62-0.01.hdf5\n",
      "weights.06-2.64.hdf5   weights.20-0.18.hdf5  weights.63-0.01.hdf5\n",
      "weights.07-1.88.hdf5   weights.21-0.08.hdf5  weights.64-0.01.hdf5\n",
      "weights.08-1.95.hdf5   weights.22-0.12.hdf5  weights.65-0.03.hdf5\n",
      "weights.09-1.46.hdf5   weights.23-0.09.hdf5  weights.66-0.01.hdf5\n",
      "weights.100-0.00.hdf5  weights.24-0.09.hdf5  weights.67-0.01.hdf5\n",
      "weights.10-0.57.hdf5   weights.25-0.11.hdf5  weights.68-0.01.hdf5\n",
      "weights.101-0.01.hdf5  weights.26-0.11.hdf5  weights.69-0.01.hdf5\n",
      "weights.102-0.00.hdf5  weights.27-0.20.hdf5  weights.70-0.00.hdf5\n",
      "weights.103-0.00.hdf5  weights.28-0.07.hdf5  weights.71-0.02.hdf5\n",
      "weights.104-0.01.hdf5  weights.29-0.07.hdf5  weights.72-0.01.hdf5\n",
      "weights.105-0.00.hdf5  weights.30-0.08.hdf5  weights.73-0.01.hdf5\n",
      "weights.106-0.00.hdf5  weights.31-0.09.hdf5  weights.74-0.01.hdf5\n",
      "weights.107-0.00.hdf5  weights.32-0.04.hdf5  weights.75-0.01.hdf5\n",
      "weights.108-0.00.hdf5  weights.33-0.02.hdf5  weights.76-0.01.hdf5\n",
      "weights.109-0.00.hdf5  weights.34-0.10.hdf5  weights.77-0.00.hdf5\n",
      "weights.110-0.00.hdf5  weights.35-0.09.hdf5  weights.78-0.01.hdf5\n",
      "weights.11-0.61.hdf5   weights.36-0.02.hdf5  weights.79-0.01.hdf5\n",
      "weights.111-0.00.hdf5  weights.37-0.03.hdf5  weights.80-0.00.hdf5\n",
      "weights.112-0.00.hdf5  weights.38-0.03.hdf5  weights.81-0.00.hdf5\n",
      "weights.113-0.01.hdf5  weights.39-0.03.hdf5  weights.82-0.00.hdf5\n",
      "weights.114-0.00.hdf5  weights.40-0.03.hdf5  weights.83-0.01.hdf5\n",
      "weights.115-0.02.hdf5  weights.41-0.02.hdf5  weights.84-0.00.hdf5\n",
      "weights.116-0.00.hdf5  weights.42-0.02.hdf5  weights.85-0.03.hdf5\n",
      "weights.117-0.01.hdf5  weights.43-0.03.hdf5  weights.86-0.01.hdf5\n",
      "weights.118-0.00.hdf5  weights.44-0.01.hdf5  weights.87-0.00.hdf5\n",
      "weights.119-0.01.hdf5  weights.45-0.03.hdf5  weights.88-0.00.hdf5\n",
      "weights.120-0.01.hdf5  weights.46-0.02.hdf5  weights.89-0.00.hdf5\n",
      "weights.12-0.73.hdf5   weights.47-0.04.hdf5  weights.90-0.00.hdf5\n",
      "weights.121-0.00.hdf5  weights.48-0.01.hdf5  weights.91-0.01.hdf5\n",
      "weights.122-0.01.hdf5  weights.49-0.06.hdf5  weights.92-0.00.hdf5\n",
      "weights.123-0.00.hdf5  weights.50-0.01.hdf5  weights.93-0.00.hdf5\n",
      "weights.124-0.00.hdf5  weights.51-0.01.hdf5  weights.94-0.00.hdf5\n",
      "weights.125-0.00.hdf5  weights.52-0.04.hdf5  weights.95-0.00.hdf5\n",
      "weights.126-0.00.hdf5  weights.53-0.02.hdf5  weights.96-0.00.hdf5\n",
      "weights.127-0.00.hdf5  weights.54-0.02.hdf5  weights.97-0.00.hdf5\n",
      "weights.128-0.00.hdf5  weights.55-0.01.hdf5  weights.98-0.00.hdf5\n",
      "weights.13-0.44.hdf5   weights.56-0.01.hdf5  weights.99-0.00.hdf5\n",
      "weights.14-0.34.hdf5   weights.57-0.02.hdf5\n"
     ]
    }
   ],
   "source": [
    "!ls checkpoints/"
   ]
  },
  {
   "cell_type": "code",
   "execution_count": 36,
   "metadata": {},
   "outputs": [],
   "source": [
    "checkpoint_path = 'checkpoints/weights.99-0.00.hdf5'"
   ]
  },
  {
   "cell_type": "code",
   "execution_count": 37,
   "metadata": {},
   "outputs": [],
   "source": [
    "!mkdir jsModel"
   ]
  },
  {
   "cell_type": "code",
   "execution_count": 38,
   "metadata": {},
   "outputs": [],
   "source": [
    "os.environ['checkpoint_path']=checkpoint_path"
   ]
  },
  {
   "cell_type": "code",
   "execution_count": 39,
   "metadata": {},
   "outputs": [],
   "source": [
    "!tensorflowjs_converter --input_format=keras {checkpoint_path} ./jsModel/"
   ]
  },
  {
   "cell_type": "code",
   "execution_count": 40,
   "metadata": {},
   "outputs": [
    {
     "name": "stdout",
     "output_type": "stream",
     "text": [
      "group1-shard10of84.bin\tgroup1-shard37of84.bin\tgroup1-shard63of84.bin\n",
      "group1-shard11of84.bin\tgroup1-shard38of84.bin\tgroup1-shard64of84.bin\n",
      "group1-shard12of84.bin\tgroup1-shard39of84.bin\tgroup1-shard65of84.bin\n",
      "group1-shard13of84.bin\tgroup1-shard3of84.bin\tgroup1-shard66of84.bin\n",
      "group1-shard14of84.bin\tgroup1-shard40of84.bin\tgroup1-shard67of84.bin\n",
      "group1-shard15of84.bin\tgroup1-shard41of84.bin\tgroup1-shard68of84.bin\n",
      "group1-shard16of84.bin\tgroup1-shard42of84.bin\tgroup1-shard69of84.bin\n",
      "group1-shard17of84.bin\tgroup1-shard43of84.bin\tgroup1-shard6of84.bin\n",
      "group1-shard18of84.bin\tgroup1-shard44of84.bin\tgroup1-shard70of84.bin\n",
      "group1-shard19of84.bin\tgroup1-shard45of84.bin\tgroup1-shard71of84.bin\n",
      "group1-shard1of84.bin\tgroup1-shard46of84.bin\tgroup1-shard72of84.bin\n",
      "group1-shard20of84.bin\tgroup1-shard47of84.bin\tgroup1-shard73of84.bin\n",
      "group1-shard21of84.bin\tgroup1-shard48of84.bin\tgroup1-shard74of84.bin\n",
      "group1-shard22of84.bin\tgroup1-shard49of84.bin\tgroup1-shard75of84.bin\n",
      "group1-shard23of84.bin\tgroup1-shard4of84.bin\tgroup1-shard76of84.bin\n",
      "group1-shard24of84.bin\tgroup1-shard50of84.bin\tgroup1-shard77of84.bin\n",
      "group1-shard25of84.bin\tgroup1-shard51of84.bin\tgroup1-shard78of84.bin\n",
      "group1-shard26of84.bin\tgroup1-shard52of84.bin\tgroup1-shard79of84.bin\n",
      "group1-shard27of84.bin\tgroup1-shard53of84.bin\tgroup1-shard7of84.bin\n",
      "group1-shard28of84.bin\tgroup1-shard54of84.bin\tgroup1-shard80of84.bin\n",
      "group1-shard29of84.bin\tgroup1-shard55of84.bin\tgroup1-shard81of84.bin\n",
      "group1-shard2of84.bin\tgroup1-shard56of84.bin\tgroup1-shard82of84.bin\n",
      "group1-shard30of84.bin\tgroup1-shard57of84.bin\tgroup1-shard83of84.bin\n",
      "group1-shard31of84.bin\tgroup1-shard58of84.bin\tgroup1-shard84of84.bin\n",
      "group1-shard32of84.bin\tgroup1-shard59of84.bin\tgroup1-shard8of84.bin\n",
      "group1-shard33of84.bin\tgroup1-shard5of84.bin\tgroup1-shard9of84.bin\n",
      "group1-shard34of84.bin\tgroup1-shard60of84.bin\tmodel.json\n",
      "group1-shard35of84.bin\tgroup1-shard61of84.bin\n",
      "group1-shard36of84.bin\tgroup1-shard62of84.bin\n"
     ]
    }
   ],
   "source": [
    "!ls jsModel/"
   ]
  },
  {
   "cell_type": "code",
   "execution_count": null,
   "metadata": {},
   "outputs": [],
   "source": []
  }
 ],
 "metadata": {
  "kernelspec": {
   "display_name": "Python 3",
   "language": "python",
   "name": "python3"
  },
  "language_info": {
   "codemirror_mode": {
    "name": "ipython",
    "version": 3
   },
   "file_extension": ".py",
   "mimetype": "text/x-python",
   "name": "python",
   "nbconvert_exporter": "python",
   "pygments_lexer": "ipython3",
   "version": "3.7.7"
  }
 },
 "nbformat": 4,
 "nbformat_minor": 4
}
