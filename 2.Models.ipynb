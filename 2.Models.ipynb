{
 "cells": [
  {
   "cell_type": "code",
   "execution_count": 1,
   "metadata": {},
   "outputs": [],
   "source": [
    "import numpy as np\n",
    "import torch\n",
    "from torch import nn\n",
    "from torch import optim\n",
    "import torch.nn.functional as F\n",
    "from torchvision import datasets, transforms, models\n",
    "from torchvision.transforms import Normalize, Resize, ToTensor\n",
    "from torch.utils.tensorboard import SummaryWriter"
   ]
  },
  {
   "cell_type": "code",
   "execution_count": 2,
   "metadata": {},
   "outputs": [],
   "source": [
    "from sklearn.preprocessing import LabelBinarizer\n",
    "from sklearn.model_selection import train_test_split\n",
    "from sklearn.metrics import classification_report\n",
    "from sklearn.metrics import confusion_matrix\n",
    "import torch\n",
    "import torchvision\n",
    "from torch.utils.data import Dataset, DataLoader\n",
    "from torchvision import transforms, utils\n",
    "from PIL import Image\n",
    "import os\n",
    "import time\n",
    "import datetime\n",
    "import pandas as pd\n"
   ]
  },
  {
   "cell_type": "code",
   "execution_count": 3,
   "metadata": {},
   "outputs": [],
   "source": [
    "os.environ[\"CUDA_VISIBLE_DEVICES\"] = \"0,1,2,3,4,5\""
   ]
  },
  {
   "cell_type": "code",
   "execution_count": 4,
   "metadata": {},
   "outputs": [],
   "source": [
    "checkpoint = 'checkpoint'"
   ]
  },
  {
   "cell_type": "code",
   "execution_count": 5,
   "metadata": {},
   "outputs": [
    {
     "data": {
      "text/plain": [
       "'/lusnlsas/ramkik_data/covid19/covid/logs/xray-resnet4'"
      ]
     },
     "execution_count": 5,
     "metadata": {},
     "output_type": "execute_result"
    }
   ],
   "source": [
    "log = \"xray-resnet4\"\n",
    "\n",
    "os.path.join(os.getcwd(), 'logs', log)"
   ]
  },
  {
   "cell_type": "code",
   "execution_count": 6,
   "metadata": {},
   "outputs": [],
   "source": [
    "\n",
    "tf_writer = SummaryWriter(os.path.join(os.getcwd(), 'logs', log))\n"
   ]
  },
  {
   "cell_type": "code",
   "execution_count": 7,
   "metadata": {},
   "outputs": [],
   "source": [
    "def check_rootfolders():\n",
    "    \"\"\"Create log and model folder\"\"\"\n",
    "    folders_util = [checkpoint]\n",
    "    for folder in folders_util:\n",
    "        if not os.path.exists(folder):\n",
    "            print('creating folder ' + folder)\n",
    "            os.mkdir(folder)\n",
    "\n",
    "check_rootfolders()"
   ]
  },
  {
   "cell_type": "code",
   "execution_count": 8,
   "metadata": {},
   "outputs": [],
   "source": [
    "def save_checkpoint(epoch , state):\n",
    "    filename = '%s/ckpt-%s.pth.tar' % (checkpoint, epoch)\n",
    "    torch.save(state, filename)"
   ]
  },
  {
   "cell_type": "code",
   "execution_count": 9,
   "metadata": {},
   "outputs": [],
   "source": [
    "model = models.resnet50(pretrained=True)\n",
    "#model.conv1 = nn.Conv2d(1, 64, kernel_size=(7, 7), stride=(2, 2), padding=(3, 3), bias=False)"
   ]
  },
  {
   "cell_type": "code",
   "execution_count": 10,
   "metadata": {},
   "outputs": [],
   "source": [
    "model.fc = nn.Sequential(nn.Linear(2048, 512),\n",
    "                                 nn.ReLU(),\n",
    "                                 nn.Dropout(0.2),\n",
    "                                 nn.Linear(512, 3),\n",
    "                                 nn.Softmax(dim=1))"
   ]
  },
  {
   "cell_type": "code",
   "execution_count": 11,
   "metadata": {},
   "outputs": [],
   "source": [
    "#model.to(device)\n",
    "model = torch.nn.DataParallel(model).cuda()\n",
    "\n",
    "\n",
    "criterion = nn.NLLLoss()\n",
    "optimizer = optim.Adam(model.parameters(), lr=0.003)"
   ]
  },
  {
   "cell_type": "code",
   "execution_count": 12,
   "metadata": {},
   "outputs": [
    {
     "data": {
      "text/html": [
       "<div>\n",
       "<style scoped>\n",
       "    .dataframe tbody tr th:only-of-type {\n",
       "        vertical-align: middle;\n",
       "    }\n",
       "\n",
       "    .dataframe tbody tr th {\n",
       "        vertical-align: top;\n",
       "    }\n",
       "\n",
       "    .dataframe thead th {\n",
       "        text-align: right;\n",
       "    }\n",
       "</style>\n",
       "<table border=\"1\" class=\"dataframe\">\n",
       "  <thead>\n",
       "    <tr style=\"text-align: right;\">\n",
       "      <th></th>\n",
       "      <th>Unnamed: 0</th>\n",
       "      <th>filename</th>\n",
       "      <th>label</th>\n",
       "    </tr>\n",
       "  </thead>\n",
       "  <tbody>\n",
       "    <tr>\n",
       "      <th>0</th>\n",
       "      <td>1038</td>\n",
       "      <td>0c2e9b99-9a8f-4b44-854e-acd181a0208c.jpg</td>\n",
       "      <td>0</td>\n",
       "    </tr>\n",
       "    <tr>\n",
       "      <th>1</th>\n",
       "      <td>2922</td>\n",
       "      <td>34fdff09-5bc2-4df5-b8cf-3c37662037c8.jpg</td>\n",
       "      <td>2</td>\n",
       "    </tr>\n",
       "    <tr>\n",
       "      <th>2</th>\n",
       "      <td>1174</td>\n",
       "      <td>0ebc8268-df3d-45d8-8ee7-b34880c62830.jpg</td>\n",
       "      <td>2</td>\n",
       "    </tr>\n",
       "    <tr>\n",
       "      <th>3</th>\n",
       "      <td>341</td>\n",
       "      <td>06f1d0a2-d8c5-4229-9944-59da85c96b81.jpg</td>\n",
       "      <td>0</td>\n",
       "    </tr>\n",
       "    <tr>\n",
       "      <th>4</th>\n",
       "      <td>280</td>\n",
       "      <td>06951c33-b247-4daf-a087-cc082f83238b.jpg</td>\n",
       "      <td>0</td>\n",
       "    </tr>\n",
       "    <tr>\n",
       "      <th>...</th>\n",
       "      <td>...</td>\n",
       "      <td>...</td>\n",
       "      <td>...</td>\n",
       "    </tr>\n",
       "    <tr>\n",
       "      <th>940</th>\n",
       "      <td>1200</td>\n",
       "      <td>0f8c91da-7e03-480e-8760-1604b1d53c97.jpg</td>\n",
       "      <td>0</td>\n",
       "    </tr>\n",
       "    <tr>\n",
       "      <th>941</th>\n",
       "      <td>1151</td>\n",
       "      <td>0dbb83c1-2214-4152-ac69-d1e7e25453cb.jpg</td>\n",
       "      <td>0</td>\n",
       "    </tr>\n",
       "    <tr>\n",
       "      <th>942</th>\n",
       "      <td>499</td>\n",
       "      <td>081e308c-0134-4ba3-b745-f632e37a83a1.jpg</td>\n",
       "      <td>0</td>\n",
       "    </tr>\n",
       "    <tr>\n",
       "      <th>943</th>\n",
       "      <td>663</td>\n",
       "      <td>095d6b7c-fa53-4f06-90b9-5c5f76038f04.jpg</td>\n",
       "      <td>2</td>\n",
       "    </tr>\n",
       "    <tr>\n",
       "      <th>944</th>\n",
       "      <td>919</td>\n",
       "      <td>0b6a7730-a747-42ce-ac00-f3dcc34df307.jpg</td>\n",
       "      <td>0</td>\n",
       "    </tr>\n",
       "  </tbody>\n",
       "</table>\n",
       "<p>945 rows × 3 columns</p>\n",
       "</div>"
      ],
      "text/plain": [
       "     Unnamed: 0                                  filename  label\n",
       "0          1038  0c2e9b99-9a8f-4b44-854e-acd181a0208c.jpg      0\n",
       "1          2922  34fdff09-5bc2-4df5-b8cf-3c37662037c8.jpg      2\n",
       "2          1174  0ebc8268-df3d-45d8-8ee7-b34880c62830.jpg      2\n",
       "3           341  06f1d0a2-d8c5-4229-9944-59da85c96b81.jpg      0\n",
       "4           280  06951c33-b247-4daf-a087-cc082f83238b.jpg      0\n",
       "..          ...                                       ...    ...\n",
       "940        1200  0f8c91da-7e03-480e-8760-1604b1d53c97.jpg      0\n",
       "941        1151  0dbb83c1-2214-4152-ac69-d1e7e25453cb.jpg      0\n",
       "942         499  081e308c-0134-4ba3-b745-f632e37a83a1.jpg      0\n",
       "943         663  095d6b7c-fa53-4f06-90b9-5c5f76038f04.jpg      2\n",
       "944         919  0b6a7730-a747-42ce-ac00-f3dcc34df307.jpg      0\n",
       "\n",
       "[945 rows x 3 columns]"
      ]
     },
     "execution_count": 12,
     "metadata": {},
     "output_type": "execute_result"
    }
   ],
   "source": [
    "df = pd.read_csv(os.path.join(os.getcwd(), 'data', 'train.csv'))\n",
    "df"
   ]
  },
  {
   "cell_type": "code",
   "execution_count": 13,
   "metadata": {},
   "outputs": [
    {
     "data": {
      "text/plain": [
       "'0c2e9b99-9a8f-4b44-854e-acd181a0208c.jpg'"
      ]
     },
     "execution_count": 13,
     "metadata": {},
     "output_type": "execute_result"
    }
   ],
   "source": [
    "df.iloc[0].filename"
   ]
  },
  {
   "cell_type": "code",
   "execution_count": 14,
   "metadata": {},
   "outputs": [
    {
     "data": {
      "text/plain": [
       "945"
      ]
     },
     "execution_count": 14,
     "metadata": {},
     "output_type": "execute_result"
    }
   ],
   "source": [
    "len(df.index)"
   ]
  },
  {
   "cell_type": "code",
   "execution_count": 15,
   "metadata": {},
   "outputs": [
    {
     "data": {
      "text/plain": [
       "945"
      ]
     },
     "execution_count": 15,
     "metadata": {},
     "output_type": "execute_result"
    }
   ],
   "source": [
    "df.shape[0]"
   ]
  },
  {
   "cell_type": "code",
   "execution_count": 16,
   "metadata": {},
   "outputs": [],
   "source": [
    "class XrayDataset(Dataset):\n",
    "    \n",
    "    def __init__(self, base, folder,  csv_path, transform=None):\n",
    "        \n",
    "        self.base = base\n",
    "        self.folder = folder\n",
    "        self.df = pd.read_csv(os.path.join(os.getcwd(), base, csv_path))\n",
    "        self.transform = transform\n",
    "        \n",
    "    \n",
    "    def __len__(self):\n",
    "        return self.df.shape[0]\n",
    "\n",
    "    def __getitem__(self, idx):\n",
    "        \n",
    "        filepath = self.df.iloc[idx].filename\n",
    "        filepath = os.path.join(os.getcwd(), self.base, self.folder,  filepath)\n",
    "        class_id = self.df.iloc[idx].label\n",
    "        #print(filepath)\n",
    "        image =  Image.open(filepath).convert('RGB')\n",
    "\n",
    "        #image = cv2.resize(image, (224, 224))\n",
    "\n",
    "        if self.transform:\n",
    "            image = self.transform(image)\n",
    "            #print(image.shape)\n",
    "        #print(image.shape)\n",
    "        return image, class_id"
   ]
  },
  {
   "cell_type": "code",
   "execution_count": 17,
   "metadata": {},
   "outputs": [],
   "source": [
    "train_transforms = transforms.Compose([\n",
    "                                     #transforms.Grayscale(1),\n",
    "                                      # transforms.ColorJitter(brightness=0.1, contrast=0.1, saturation=0.1, hue=0.1),\n",
    "                                       transforms.RandomHorizontalFlip(p=0.3),\n",
    "                                        transforms.Resize((224,224)),\n",
    "                                       transforms.ToTensor(),\n",
    "                                       transforms.Normalize(mean=[0.5], std=[0.5])\n",
    "                                       ])\n",
    "test_transforms = transforms.Compose([\n",
    "#                                     transforms.Grayscale(1),\n",
    "                                      transforms.Resize((224,224)),\n",
    "                                      transforms.ToTensor(),\n",
    "                                      transforms.Normalize(mean=[0.5], std=[0.5])\n",
    "                                      ])"
   ]
  },
  {
   "cell_type": "code",
   "execution_count": 18,
   "metadata": {},
   "outputs": [],
   "source": [
    "train_dataset = XrayDataset( 'data', 'train', 'train.csv', train_transforms )\n",
    "\n",
    "test_dataset = XrayDataset('data', 'test', 'test.csv', test_transforms )\n",
    "\n",
    "image, label = next(iter(train_dataset))"
   ]
  },
  {
   "cell_type": "code",
   "execution_count": 19,
   "metadata": {},
   "outputs": [
    {
     "data": {
      "text/plain": [
       "0"
      ]
     },
     "execution_count": 19,
     "metadata": {},
     "output_type": "execute_result"
    }
   ],
   "source": [
    "label"
   ]
  },
  {
   "cell_type": "code",
   "execution_count": 20,
   "metadata": {},
   "outputs": [],
   "source": [
    "batch_size = 128"
   ]
  },
  {
   "cell_type": "code",
   "execution_count": null,
   "metadata": {},
   "outputs": [],
   "source": []
  },
  {
   "cell_type": "code",
   "execution_count": 21,
   "metadata": {},
   "outputs": [],
   "source": [
    "train_dataloader = DataLoader(train_dataset, batch_size=batch_size,  shuffle=True, num_workers=4)\n",
    "test_dataloader = DataLoader(test_dataset, batch_size=batch_size,  shuffle=False, num_workers=4)"
   ]
  },
  {
   "cell_type": "code",
   "execution_count": 22,
   "metadata": {},
   "outputs": [],
   "source": [
    "image, label = next(iter(train_dataloader))"
   ]
  },
  {
   "cell_type": "code",
   "execution_count": 23,
   "metadata": {},
   "outputs": [
    {
     "data": {
      "text/plain": [
       "tensor([0, 1, 1, 2, 1, 0, 2, 2, 0, 2, 0, 2, 0, 0, 0, 2, 2, 0, 2, 0, 0, 2, 2, 2,\n",
       "        2, 2, 2, 2, 2, 0, 0, 2, 0, 2, 0, 0, 0, 2, 2, 0, 1, 0, 0, 0, 2, 0, 2, 0,\n",
       "        0, 0, 2, 0, 1, 2, 0, 2, 0, 2, 0, 0, 0, 0, 2, 2, 2, 0, 0, 0, 2, 2, 2, 0,\n",
       "        2, 0, 0, 0, 0, 0, 2, 0, 2, 0, 0, 1, 1, 2, 2, 2, 2, 0, 2, 2, 1, 0, 1, 0,\n",
       "        2, 1, 2, 0, 0, 2, 2, 0, 0, 0, 2, 2, 0, 0, 0, 2, 0, 1, 0, 0, 2, 2, 0, 0,\n",
       "        1, 2, 2, 2, 0, 2, 2, 1])"
      ]
     },
     "execution_count": 23,
     "metadata": {},
     "output_type": "execute_result"
    }
   ],
   "source": [
    "label"
   ]
  },
  {
   "cell_type": "code",
   "execution_count": 24,
   "metadata": {},
   "outputs": [],
   "source": [
    "def validate(val_loader, model, criterion, epoch):\n",
    "    model.eval()\n",
    "\n",
    "    start_val_time = time.time()\n",
    "\n",
    "    correct = 0\n",
    "    total = 0\n",
    "    running_loss = 0.0\n",
    "    count_loop = 0\n",
    "    with torch.no_grad():\n",
    "        for i, (input, target) in enumerate(val_loader):\n",
    "            count_loop +=1\n",
    "            target = target.cuda()\n",
    "\n",
    "            # compute output\n",
    "            output = model(input.cuda())\n",
    "            loss = criterion(output, target)\n",
    "            _, predicted = torch.max(output.data, 1)\n",
    "            total += target.size(0)\n",
    "            correct += (predicted == target).sum().item()\n",
    "\n",
    "            running_loss += loss.item()\n",
    "\n",
    "            # measure accuracy and record loss\n",
    "            #prec1, prec5 = accuracy(output.data, target, topk=(1, 5))\n",
    "    accurecy = 100 * correct / total\n",
    "    end_val_time = time.time()\n",
    "\n",
    "    currentDT = datetime.datetime.now()        \n",
    "    print(str(currentDT), \"=== Validation Loss : \", running_loss, \"  Accurecy : \", accurecy, \"count loop : \", count_loop, \"   Validation Time :  \", (end_val_time-start_val_time) )\n",
    "    \n",
    "    if tf_writer is not None:\n",
    "        tf_writer.add_scalar('accurecy/test', accurecy, epoch)\n",
    "        tf_writer.add_scalar('loss/test', running_loss, epoch)\n",
    "    return running_loss"
   ]
  },
  {
   "cell_type": "code",
   "execution_count": 25,
   "metadata": {},
   "outputs": [],
   "source": [
    "epochs = 300\n",
    "steps = 0\n",
    "print_every = 1\n",
    "  \n",
    "train_losses, test_losses = [], []"
   ]
  },
  {
   "cell_type": "code",
   "execution_count": null,
   "metadata": {},
   "outputs": [
    {
     "name": "stdout",
     "output_type": "stream",
     "text": [
      " === epoch :  0 === Training Loss :  -3.9685350358486176   Accurecy :  51.74603174603175\n",
      "2020-04-17 10:12:00.169423 === Validation Loss :  -0.4285714328289032   Accurecy :  42.857142857142854 count loop :  1    Validation Time :   2.384591579437256\n",
      " === epoch :  1 === Training Loss :  -3.6466249227523804   Accurecy :  45.82010582010582\n",
      "2020-04-17 10:12:09.168661 === Validation Loss :  -0.4285714328289032   Accurecy :  42.857142857142854 count loop :  1    Validation Time :   2.370037078857422\n",
      " === epoch :  2 === Training Loss :  -4.046564936637878   Accurecy :  50.58201058201058\n",
      "2020-04-17 10:12:17.958047 === Validation Loss :  -0.4476190507411957   Accurecy :  44.76190476190476 count loop :  1    Validation Time :   2.392124891281128\n",
      " === epoch :  3 === Training Loss :  -3.6444785594940186   Accurecy :  45.60846560846561\n",
      "2020-04-17 10:12:26.714402 === Validation Loss :  -0.43810150027275085   Accurecy :  43.80952380952381 count loop :  1    Validation Time :   2.332263708114624\n",
      " === epoch :  4 === Training Loss :  -3.9212232530117035   Accurecy :  48.148148148148145\n",
      "2020-04-17 10:12:35.673957 === Validation Loss :  -0.4666614830493927   Accurecy :  46.666666666666664 count loop :  1    Validation Time :   2.3777916431427\n",
      " === epoch :  5 === Training Loss :  -3.8138913214206696   Accurecy :  48.99470899470899\n",
      "2020-04-17 10:12:44.533723 === Validation Loss :  -0.43809524178504944   Accurecy :  43.80952380952381 count loop :  1    Validation Time :   2.379732847213745\n",
      " === epoch :  6 === Training Loss :  -3.820654958486557   Accurecy :  47.407407407407405\n",
      "2020-04-17 10:12:53.805605 === Validation Loss :  -0.4730006754398346   Accurecy :  47.61904761904762 count loop :  1    Validation Time :   2.3816111087799072\n",
      " === epoch :  7 === Training Loss :  -3.223543733358383   Accurecy :  40.84656084656085\n",
      "2020-04-17 10:13:03.120245 === Validation Loss :  -0.43851572275161743   Accurecy :  43.80952380952381 count loop :  1    Validation Time :   2.468416452407837\n",
      " === epoch :  8 === Training Loss :  -3.8918724060058594   Accurecy :  48.148148148148145\n",
      "2020-04-17 10:13:12.093595 === Validation Loss :  -0.4487821161746979   Accurecy :  44.76190476190476 count loop :  1    Validation Time :   2.4836742877960205\n",
      " === epoch :  9 === Training Loss :  -4.079315036535263   Accurecy :  51.00529100529101\n",
      "2020-04-17 10:13:20.837722 === Validation Loss :  -0.4476190507411957   Accurecy :  44.76190476190476 count loop :  1    Validation Time :   2.3754472732543945\n",
      " === epoch :  10 === Training Loss :  -3.8386312425136566   Accurecy :  48.783068783068785\n",
      "2020-04-17 10:13:29.824246 === Validation Loss :  -0.4476190507411957   Accurecy :  44.76190476190476 count loop :  1    Validation Time :   2.377939462661743\n",
      " === epoch :  11 === Training Loss :  -3.675923764705658   Accurecy :  46.34920634920635\n",
      "2020-04-17 10:13:38.586646 === Validation Loss :  -0.4476190507411957   Accurecy :  44.76190476190476 count loop :  1    Validation Time :   2.414402723312378\n",
      " === epoch :  12 === Training Loss :  -3.7567793130874634   Accurecy :  47.83068783068783\n",
      "2020-04-17 10:13:47.469974 === Validation Loss :  -0.4476190507411957   Accurecy :  44.76190476190476 count loop :  1    Validation Time :   2.3599133491516113\n",
      " === epoch :  13 === Training Loss :  -3.8274376690387726   Accurecy :  47.195767195767196\n",
      "2020-04-17 10:13:56.237938 === Validation Loss :  -0.45290371775627136   Accurecy :  45.714285714285715 count loop :  1    Validation Time :   2.342456102371216\n",
      " === epoch :  14 === Training Loss :  -3.619589239358902   Accurecy :  44.973544973544975\n",
      "2020-04-17 10:14:05.060523 === Validation Loss :  -0.42857247591018677   Accurecy :  42.857142857142854 count loop :  1    Validation Time :   2.348846673965454\n",
      " === epoch :  15 === Training Loss :  -3.6016417741775513   Accurecy :  44.55026455026455\n",
      "2020-04-17 10:14:14.110838 === Validation Loss :  -0.41905292868614197   Accurecy :  41.904761904761905 count loop :  1    Validation Time :   2.424760580062866\n",
      " === epoch :  16 === Training Loss :  -3.6465037167072296   Accurecy :  45.60846560846561\n",
      "2020-04-17 10:14:22.931961 === Validation Loss :  -0.4664933383464813   Accurecy :  46.666666666666664 count loop :  1    Validation Time :   2.392728805541992\n",
      " === epoch :  17 === Training Loss :  -3.8157785534858704   Accurecy :  46.77248677248677\n",
      "2020-04-17 10:14:32.172527 === Validation Loss :  -0.4798310697078705   Accurecy :  47.61904761904762 count loop :  1    Validation Time :   2.3246872425079346\n",
      " === epoch :  18 === Training Loss :  -3.7967702746391296   Accurecy :  47.407407407407405\n",
      "2020-04-17 10:14:41.231734 === Validation Loss :  -0.4885326325893402   Accurecy :  48.57142857142857 count loop :  1    Validation Time :   2.366676092147827\n",
      " === epoch :  19 === Training Loss :  -3.8550958335399628   Accurecy :  48.57142857142857\n",
      "2020-04-17 10:14:50.084257 === Validation Loss :  -0.5047621130943298   Accurecy :  50.476190476190474 count loop :  1    Validation Time :   2.3641083240509033\n",
      " === epoch :  20 === Training Loss :  -4.017940253019333   Accurecy :  50.476190476190474\n",
      "2020-04-17 10:14:58.952457 === Validation Loss :  -0.4285610318183899   Accurecy :  42.857142857142854 count loop :  1    Validation Time :   2.3620378971099854\n",
      " === epoch :  21 === Training Loss :  -3.8612307608127594   Accurecy :  47.61904761904762\n",
      "2020-04-17 10:15:07.806179 === Validation Loss :  -0.46666666865348816   Accurecy :  46.666666666666664 count loop :  1    Validation Time :   2.390482187271118\n",
      " === epoch :  22 === Training Loss :  -3.499685525894165   Accurecy :  43.7037037037037\n",
      "2020-04-17 10:15:16.603094 === Validation Loss :  -0.4476190507411957   Accurecy :  44.76190476190476 count loop :  1    Validation Time :   2.368095636367798\n",
      " === epoch :  23 === Training Loss :  -3.631281793117523   Accurecy :  45.60846560846561\n",
      "2020-04-17 10:15:25.483947 === Validation Loss :  -0.4479973316192627   Accurecy :  44.76190476190476 count loop :  1    Validation Time :   2.4601175785064697\n",
      " === epoch :  24 === Training Loss :  -3.7775199711322784   Accurecy :  46.77248677248677\n",
      "2020-04-17 10:15:34.429461 === Validation Loss :  -0.46834444999694824   Accurecy :  46.666666666666664 count loop :  1    Validation Time :   2.3759677410125732\n",
      " === epoch :  25 === Training Loss :  -3.8219767808914185   Accurecy :  46.98412698412698\n",
      "2020-04-17 10:15:43.125221 === Validation Loss :  -0.4786684811115265   Accurecy :  47.61904761904762 count loop :  1    Validation Time :   2.383286952972412\n",
      " === epoch :  26 === Training Loss :  -3.894972860813141   Accurecy :  49.20634920634921\n",
      "2020-04-17 10:15:51.858455 === Validation Loss :  -0.5020695924758911   Accurecy :  50.476190476190474 count loop :  1    Validation Time :   2.3832244873046875\n",
      " === epoch :  27 === Training Loss :  -3.9210402965545654   Accurecy :  49.31216931216931\n",
      "2020-04-17 10:16:00.595165 === Validation Loss :  -0.48080766201019287   Accurecy :  47.61904761904762 count loop :  1    Validation Time :   2.3487560749053955\n",
      " === epoch :  28 === Training Loss :  -3.9300482869148254   Accurecy :  48.35978835978836\n",
      "2020-04-17 10:16:09.384139 === Validation Loss :  -0.5333325266838074   Accurecy :  53.333333333333336 count loop :  1    Validation Time :   2.379228353500366\n",
      " === epoch :  29 === Training Loss :  -3.8997922539711   Accurecy :  48.888888888888886\n",
      "2020-04-17 10:16:18.426420 === Validation Loss :  -0.5056144595146179   Accurecy :  50.476190476190474 count loop :  1    Validation Time :   2.4004340171813965\n",
      " === epoch :  30 === Training Loss :  -4.024296313524246   Accurecy :  50.370370370370374\n",
      "2020-04-17 10:16:27.446619 === Validation Loss :  -0.5237663388252258   Accurecy :  52.38095238095238 count loop :  1    Validation Time :   2.401472568511963\n",
      " === epoch :  31 === Training Loss :  -4.1963368356227875   Accurecy :  52.16931216931217\n",
      "2020-04-17 10:16:36.332735 === Validation Loss :  -0.451030433177948   Accurecy :  44.76190476190476 count loop :  1    Validation Time :   2.371699571609497\n",
      " === epoch :  32 === Training Loss :  -4.368648022413254   Accurecy :  54.285714285714285\n",
      "2020-04-17 10:16:45.076234 === Validation Loss :  -0.5241013169288635   Accurecy :  52.38095238095238 count loop :  1    Validation Time :   2.380756378173828\n",
      " === epoch :  33 === Training Loss :  -4.118283033370972   Accurecy :  51.42857142857143\n",
      "2020-04-17 10:16:54.097547 === Validation Loss :  -0.5369840860366821   Accurecy :  53.333333333333336 count loop :  1    Validation Time :   2.3792645931243896\n",
      " === epoch :  34 === Training Loss :  -4.24718764424324   Accurecy :  53.01587301587302\n",
      "2020-04-17 10:17:02.942625 === Validation Loss :  -0.6190476417541504   Accurecy :  61.904761904761905 count loop :  1    Validation Time :   2.3687286376953125\n",
      " === epoch :  35 === Training Loss :  -3.991468459367752   Accurecy :  49.629629629629626\n",
      "2020-04-17 10:17:11.681157 === Validation Loss :  -0.4667394757270813   Accurecy :  46.666666666666664 count loop :  1    Validation Time :   2.3991539478302\n",
      " === epoch :  36 === Training Loss :  -3.944186508655548   Accurecy :  49.735449735449734\n",
      "2020-04-17 10:17:20.749950 === Validation Loss :  -0.4944800138473511   Accurecy :  49.523809523809526 count loop :  1    Validation Time :   2.424823045730591\n",
      " === epoch :  37 === Training Loss :  -3.8186261355876923   Accurecy :  48.35978835978836\n",
      "2020-04-17 10:17:29.805078 === Validation Loss :  -0.47652581334114075   Accurecy :  47.61904761904762 count loop :  1    Validation Time :   2.376063346862793\n",
      " === epoch :  38 === Training Loss :  -3.8829178512096405   Accurecy :  48.46560846560847\n",
      "2020-04-17 10:17:38.508461 === Validation Loss :  -0.4324518144130707   Accurecy :  42.857142857142854 count loop :  1    Validation Time :   2.3836543560028076\n",
      " === epoch :  39 === Training Loss :  -3.81006321310997   Accurecy :  47.72486772486773\n",
      "2020-04-17 10:17:47.463359 === Validation Loss :  -0.4092652201652527   Accurecy :  40.95238095238095 count loop :  1    Validation Time :   2.3892574310302734\n",
      " === epoch :  40 === Training Loss :  -3.7353465855121613   Accurecy :  46.87830687830688\n",
      "2020-04-17 10:17:56.577229 === Validation Loss :  -0.43945252895355225   Accurecy :  43.80952380952381 count loop :  1    Validation Time :   2.406367778778076\n",
      " === epoch :  41 === Training Loss :  -3.644125521183014   Accurecy :  45.3968253968254\n",
      "2020-04-17 10:18:05.216405 === Validation Loss :  -0.47457385063171387   Accurecy :  47.61904761904762 count loop :  1    Validation Time :   2.4575068950653076\n",
      " === epoch :  42 === Training Loss :  -3.7012571692466736   Accurecy :  46.560846560846564\n",
      "2020-04-17 10:18:13.977598 === Validation Loss :  -0.4059179127216339   Accurecy :  40.0 count loop :  1    Validation Time :   2.374915361404419\n",
      " === epoch :  43 === Training Loss :  -3.7913343012332916   Accurecy :  47.72486772486773\n",
      "2020-04-17 10:18:22.960134 === Validation Loss :  -0.49181243777275085   Accurecy :  49.523809523809526 count loop :  1    Validation Time :   2.3666670322418213\n",
      " === epoch :  44 === Training Loss :  -3.7820819914340973   Accurecy :  47.51322751322751\n",
      "2020-04-17 10:18:31.668563 === Validation Loss :  -0.4761925935745239   Accurecy :  47.61904761904762 count loop :  1    Validation Time :   2.381721258163452\n",
      " === epoch :  45 === Training Loss :  -3.893203616142273   Accurecy :  48.25396825396825\n",
      "2020-04-17 10:18:40.428746 === Validation Loss :  -0.4680590033531189   Accurecy :  46.666666666666664 count loop :  1    Validation Time :   2.3766095638275146\n",
      " === epoch :  46 === Training Loss :  -3.716188907623291   Accurecy :  46.666666666666664\n",
      "2020-04-17 10:18:48.890084 === Validation Loss :  -0.4857155680656433   Accurecy :  48.57142857142857 count loop :  1    Validation Time :   2.349473714828491\n",
      " === epoch :  47 === Training Loss :  -3.859342008829117   Accurecy :  47.72486772486773\n",
      "2020-04-17 10:18:57.945766 === Validation Loss :  -0.37143558263778687   Accurecy :  37.142857142857146 count loop :  1    Validation Time :   2.3707122802734375\n",
      " === epoch :  48 === Training Loss :  -3.7992072999477386   Accurecy :  47.195767195767196\n",
      "2020-04-17 10:19:07.155865 === Validation Loss :  -0.4285714328289032   Accurecy :  42.857142857142854 count loop :  1    Validation Time :   2.362793207168579\n",
      " === epoch :  49 === Training Loss :  -3.9771759510040283   Accurecy :  49.1005291005291\n",
      "2020-04-17 10:19:15.863429 === Validation Loss :  -0.4285714328289032   Accurecy :  42.857142857142854 count loop :  1    Validation Time :   2.4429855346679688\n",
      " === epoch :  50 === Training Loss :  -3.706507235765457   Accurecy :  48.148148148148145\n",
      "2020-04-17 10:19:24.691405 === Validation Loss :  -0.4285714328289032   Accurecy :  42.857142857142854 count loop :  1    Validation Time :   2.362337827682495\n",
      " === epoch :  51 === Training Loss :  -3.641970843076706   Accurecy :  46.03174603174603\n",
      "2020-04-17 10:19:33.517897 === Validation Loss :  -0.4337320327758789   Accurecy :  43.80952380952381 count loop :  1    Validation Time :   2.3569817543029785\n",
      " === epoch :  52 === Training Loss :  -3.7886741161346436   Accurecy :  46.98412698412698\n",
      "2020-04-17 10:19:42.122572 === Validation Loss :  -0.46570780873298645   Accurecy :  46.666666666666664 count loop :  1    Validation Time :   2.3867275714874268\n",
      " === epoch :  53 === Training Loss :  -3.748614490032196   Accurecy :  47.301587301587304\n",
      "2020-04-17 10:19:50.865328 === Validation Loss :  -0.47404393553733826   Accurecy :  47.61904761904762 count loop :  1    Validation Time :   2.3633201122283936\n",
      " === epoch :  54 === Training Loss :  -4.059676915407181   Accurecy :  50.68783068783069\n",
      "2020-04-17 10:19:59.372972 === Validation Loss :  -0.44050103425979614   Accurecy :  43.80952380952381 count loop :  1    Validation Time :   2.372649908065796\n",
      " === epoch :  55 === Training Loss :  -4.186059087514877   Accurecy :  52.698412698412696\n",
      "2020-04-17 10:20:08.050205 === Validation Loss :  -0.4476190507411957   Accurecy :  44.76190476190476 count loop :  1    Validation Time :   2.342074155807495\n",
      " === epoch :  56 === Training Loss :  -4.039453893899918   Accurecy :  50.476190476190474\n",
      "2020-04-17 10:20:16.922896 === Validation Loss :  -0.4476190507411957   Accurecy :  44.76190476190476 count loop :  1    Validation Time :   2.403496026992798\n",
      " === epoch :  57 === Training Loss :  -3.9072589576244354   Accurecy :  48.25396825396825\n",
      "2020-04-17 10:20:25.898042 === Validation Loss :  -0.46568211913108826   Accurecy :  47.61904761904762 count loop :  1    Validation Time :   2.35182785987854\n",
      " === epoch :  58 === Training Loss :  -3.775426894426346   Accurecy :  47.51322751322751\n",
      "2020-04-17 10:20:34.941519 === Validation Loss :  -0.3954174518585205   Accurecy :  40.0 count loop :  1    Validation Time :   2.374969244003296\n",
      " === epoch :  59 === Training Loss :  -3.909421920776367   Accurecy :  48.57142857142857\n",
      "2020-04-17 10:20:44.173326 === Validation Loss :  -0.3999597430229187   Accurecy :  40.0 count loop :  1    Validation Time :   2.36006498336792\n",
      " === epoch :  60 === Training Loss :  -3.923875778913498   Accurecy :  48.888888888888886\n",
      "2020-04-17 10:20:53.421226 === Validation Loss :  -0.37049371004104614   Accurecy :  37.142857142857146 count loop :  1    Validation Time :   2.468837022781372\n",
      " === epoch :  61 === Training Loss :  -3.6609981060028076   Accurecy :  47.61904761904762\n",
      "2020-04-17 10:21:02.439617 === Validation Loss :  -0.42815718054771423   Accurecy :  42.857142857142854 count loop :  1    Validation Time :   2.347811698913574\n",
      " === epoch :  62 === Training Loss :  -3.8408434689044952   Accurecy :  47.83068783068783\n",
      "2020-04-17 10:21:11.997557 === Validation Loss :  -0.43205222487449646   Accurecy :  42.857142857142854 count loop :  1    Validation Time :   2.4565658569335938\n",
      " === epoch :  63 === Training Loss :  -3.821970045566559   Accurecy :  48.042328042328045\n",
      "2020-04-17 10:21:20.855397 === Validation Loss :  -0.4563571810722351   Accurecy :  45.714285714285715 count loop :  1    Validation Time :   2.3734166622161865\n",
      " === epoch :  64 === Training Loss :  -3.738132268190384   Accurecy :  46.455026455026456\n",
      "2020-04-17 10:21:29.894994 === Validation Loss :  -0.4571492075920105   Accurecy :  45.714285714285715 count loop :  1    Validation Time :   2.362269401550293\n",
      " === epoch :  65 === Training Loss :  -3.755230128765106   Accurecy :  47.301587301587304\n",
      "2020-04-17 10:21:38.587587 === Validation Loss :  -0.44278964400291443   Accurecy :  43.80952380952381 count loop :  1    Validation Time :   2.3713796138763428\n",
      " === epoch :  66 === Training Loss :  -3.8780315220355988   Accurecy :  47.72486772486773\n",
      "2020-04-17 10:21:47.710712 === Validation Loss :  -0.44526904821395874   Accurecy :  44.76190476190476 count loop :  1    Validation Time :   2.361398458480835\n",
      " === epoch :  67 === Training Loss :  -3.829383224248886   Accurecy :  48.25396825396825\n",
      "2020-04-17 10:21:56.677404 === Validation Loss :  -0.4191364347934723   Accurecy :  41.904761904761905 count loop :  1    Validation Time :   2.377115249633789\n",
      " === epoch :  68 === Training Loss :  -3.956297993659973   Accurecy :  49.1005291005291\n",
      "2020-04-17 10:22:05.343423 === Validation Loss :  -0.42857232689857483   Accurecy :  42.857142857142854 count loop :  1    Validation Time :   2.3421010971069336\n",
      " === epoch :  69 === Training Loss :  -3.8406669795513153   Accurecy :  47.93650793650794\n",
      "2020-04-17 10:22:14.259447 === Validation Loss :  -0.4340745806694031   Accurecy :  43.80952380952381 count loop :  1    Validation Time :   2.4023995399475098\n",
      " === epoch :  70 === Training Loss :  -3.770271420478821   Accurecy :  47.301587301587304\n",
      "2020-04-17 10:22:22.808017 === Validation Loss :  -0.3904750943183899   Accurecy :  39.04761904761905 count loop :  1    Validation Time :   2.344296455383301\n",
      " === epoch :  71 === Training Loss :  -4.017194211483002   Accurecy :  49.523809523809526\n",
      "2020-04-17 10:22:31.774725 === Validation Loss :  -0.39438295364379883   Accurecy :  40.0 count loop :  1    Validation Time :   2.4093821048736572\n",
      " === epoch :  72 === Training Loss :  -3.845258980989456   Accurecy :  48.25396825396825\n",
      "2020-04-17 10:22:40.680382 === Validation Loss :  -0.43765243887901306   Accurecy :  43.80952380952381 count loop :  1    Validation Time :   2.39728045463562\n",
      " === epoch :  73 === Training Loss :  -3.878384530544281   Accurecy :  48.46560846560847\n",
      "2020-04-17 10:22:49.564529 === Validation Loss :  -0.35392019152641296   Accurecy :  35.23809523809524 count loop :  1    Validation Time :   2.3566014766693115\n",
      " === epoch :  74 === Training Loss :  -3.5703044831752777   Accurecy :  43.91534391534392\n",
      "2020-04-17 10:22:58.401094 === Validation Loss :  -0.4285714328289032   Accurecy :  42.857142857142854 count loop :  1    Validation Time :   2.34222412109375\n",
      " === epoch :  75 === Training Loss :  -3.7490679919719696   Accurecy :  45.925925925925924\n",
      "2020-04-17 10:23:07.343390 === Validation Loss :  -0.4285714328289032   Accurecy :  42.857142857142854 count loop :  1    Validation Time :   2.3825173377990723\n",
      " === epoch :  76 === Training Loss :  -3.856976866722107   Accurecy :  47.407407407407405\n",
      "2020-04-17 10:23:16.406194 === Validation Loss :  -0.4000478982925415   Accurecy :  40.0 count loop :  1    Validation Time :   2.3801145553588867\n",
      " === epoch :  77 === Training Loss :  -3.661433160305023   Accurecy :  46.455026455026456\n",
      "2020-04-17 10:23:25.222867 === Validation Loss :  -0.38093653321266174   Accurecy :  38.095238095238095 count loop :  1    Validation Time :   2.3538596630096436\n",
      " === epoch :  78 === Training Loss :  -3.7852993309497833   Accurecy :  47.51322751322751\n",
      "2020-04-17 10:23:34.206286 === Validation Loss :  -0.41709834337234497   Accurecy :  41.904761904761905 count loop :  1    Validation Time :   2.3641579151153564\n",
      " === epoch :  79 === Training Loss :  -3.8960457742214203   Accurecy :  48.99470899470899\n",
      "2020-04-17 10:23:42.951440 === Validation Loss :  -0.4095226228237152   Accurecy :  40.95238095238095 count loop :  1    Validation Time :   2.35422682762146\n",
      " === epoch :  80 === Training Loss :  -3.9265156388282776   Accurecy :  48.57142857142857\n",
      "2020-04-17 10:23:51.555176 === Validation Loss :  -0.374228298664093   Accurecy :  37.142857142857146 count loop :  1    Validation Time :   2.407158374786377\n",
      " === epoch :  81 === Training Loss :  -3.8888463377952576   Accurecy :  48.57142857142857\n",
      "2020-04-17 10:24:00.518189 === Validation Loss :  -0.3911017179489136   Accurecy :  39.04761904761905 count loop :  1    Validation Time :   2.4145331382751465\n",
      " === epoch :  82 === Training Loss :  -3.7353412210941315   Accurecy :  46.666666666666664\n",
      "2020-04-17 10:24:09.513893 === Validation Loss :  -0.37681397795677185   Accurecy :  38.095238095238095 count loop :  1    Validation Time :   2.3438682556152344\n",
      " === epoch :  83 === Training Loss :  -3.919652998447418   Accurecy :  48.783068783068785\n",
      "2020-04-17 10:24:18.599186 === Validation Loss :  -0.3903052508831024   Accurecy :  39.04761904761905 count loop :  1    Validation Time :   2.3757190704345703\n",
      " === epoch :  84 === Training Loss :  -3.848645865917206   Accurecy :  48.042328042328045\n",
      "2020-04-17 10:24:27.184044 === Validation Loss :  -0.4285714328289032   Accurecy :  42.857142857142854 count loop :  1    Validation Time :   2.3964130878448486\n",
      " === epoch :  85 === Training Loss :  -3.8070497512817383   Accurecy :  47.08994708994709\n",
      "2020-04-17 10:24:36.528457 === Validation Loss :  -0.49516114592552185   Accurecy :  49.523809523809526 count loop :  1    Validation Time :   2.457225799560547\n",
      " === epoch :  86 === Training Loss :  -3.6179134845733643   Accurecy :  44.86772486772487\n",
      "2020-04-17 10:24:45.516368 === Validation Loss :  -0.428619384765625   Accurecy :  42.857142857142854 count loop :  1    Validation Time :   2.373500347137451\n",
      " === epoch :  87 === Training Loss :  -3.752882033586502   Accurecy :  47.08994708994709\n",
      "2020-04-17 10:24:54.279928 === Validation Loss :  -0.4415261745452881   Accurecy :  43.80952380952381 count loop :  1    Validation Time :   2.3660507202148438\n",
      " === epoch :  88 === Training Loss :  -3.8229384422302246   Accurecy :  47.61904761904762\n",
      "2020-04-17 10:25:02.933164 === Validation Loss :  -0.4294823706150055   Accurecy :  42.857142857142854 count loop :  1    Validation Time :   2.408292770385742\n",
      " === epoch :  89 === Training Loss :  -3.6904072165489197   Accurecy :  46.560846560846564\n",
      "2020-04-17 10:25:11.566409 === Validation Loss :  -0.39999985694885254   Accurecy :  40.0 count loop :  1    Validation Time :   2.378797769546509\n",
      " === epoch :  90 === Training Loss :  -3.8791428208351135   Accurecy :  47.83068783068783\n"
     ]
    }
   ],
   "source": [
    "for epoch in range(epochs):\n",
    "    \n",
    "    running_loss = 0.0     \n",
    "    correct = 0\n",
    "    total = 0 \n",
    "    \n",
    "    model.train()\n",
    "\n",
    "    for inputs, labels in train_dataloader:\n",
    "        steps += 1\n",
    "        inputs, labels = inputs.cuda(), labels.cuda()\n",
    "        optimizer.zero_grad()\n",
    "        logps = model(inputs)\n",
    "        loss = criterion(logps, labels)\n",
    "        loss.backward()\n",
    "        optimizer.step()\n",
    "        \n",
    "        running_loss += loss.item()\n",
    "        \n",
    "        _, predicted = torch.max(logps.data, 1)\n",
    "        #print(predicted)\n",
    "        \n",
    "        total += labels.size(0)\n",
    "        correct += (predicted == labels).sum().item()\n",
    "        #print(correct)\n",
    "    \n",
    "    accurecy = 100 * correct / total\n",
    "    tf_writer.add_scalar('loss/train', running_loss, epoch)\n",
    "    tf_writer.add_scalar('accurecy/train', accurecy, epoch)\n",
    "    print( \" === epoch : \", epoch, \"=== Training Loss : \", running_loss, \"  Accurecy : \", accurecy )\n",
    "\n",
    "    validate(test_dataloader, model, criterion, epoch)\n",
    "    tf_writer.flush()\n",
    "    \n",
    "    \n",
    "    save_checkpoint(epoch, {\n",
    "                'epoch': epoch + 1,\n",
    "                'state_dict': model.state_dict(),\n",
    "                'optimizer': optimizer.state_dict(),\n",
    "                \n",
    "            })\n",
    "\n",
    "tf_writer.close()\n"
   ]
  },
  {
   "cell_type": "code",
   "execution_count": null,
   "metadata": {},
   "outputs": [],
   "source": []
  }
 ],
 "metadata": {
  "kernelspec": {
   "display_name": "Python 3",
   "language": "python",
   "name": "python3"
  },
  "language_info": {
   "codemirror_mode": {
    "name": "ipython",
    "version": 3
   },
   "file_extension": ".py",
   "mimetype": "text/x-python",
   "name": "python",
   "nbconvert_exporter": "python",
   "pygments_lexer": "ipython3",
   "version": "3.8.2"
  }
 },
 "nbformat": 4,
 "nbformat_minor": 4
}
