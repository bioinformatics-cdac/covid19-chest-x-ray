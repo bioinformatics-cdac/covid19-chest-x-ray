{
 "cells": [
  {
   "cell_type": "code",
   "execution_count": 1,
   "metadata": {},
   "outputs": [],
   "source": [
    "import numpy as np\n",
    "import torch\n",
    "from torch import nn\n",
    "from torch import optim\n",
    "import torch.nn.functional as F\n",
    "from torchvision import datasets, transforms, models\n",
    "from torchvision.transforms import Normalize, Resize, ToTensor\n",
    "from torch.utils.tensorboard import SummaryWriter"
   ]
  },
  {
   "cell_type": "code",
   "execution_count": 28,
   "metadata": {},
   "outputs": [],
   "source": [
    "from sklearn.preprocessing import LabelBinarizer\n",
    "from sklearn.model_selection import train_test_split\n",
    "from sklearn.metrics import classification_report\n",
    "from sklearn.metrics import confusion_matrix\n",
    "import torch\n",
    "import torchvision\n",
    "from torch.utils.data import Dataset, DataLoader\n",
    "from torchvision import transforms, utils\n",
    "from PIL import Image\n",
    "import os\n",
    "import time\n",
    "import datetime\n",
    "import pandas as pd\n"
   ]
  },
  {
   "cell_type": "code",
   "execution_count": 3,
   "metadata": {},
   "outputs": [],
   "source": [
    "os.environ[\"CUDA_VISIBLE_DEVICES\"] = \"0,1,4\""
   ]
  },
  {
   "cell_type": "code",
   "execution_count": 4,
   "metadata": {},
   "outputs": [],
   "source": [
    "checkpoint = 'checkpoint'"
   ]
  },
  {
   "cell_type": "code",
   "execution_count": 6,
   "metadata": {},
   "outputs": [
    {
     "data": {
      "text/plain": [
       "'/lusnlsas/ramkik_data/covid19/covid/logs/xray-resnet4'"
      ]
     },
     "execution_count": 6,
     "metadata": {},
     "output_type": "execute_result"
    }
   ],
   "source": [
    "log = \"xray-resnet4\"\n",
    "\n",
    "os.path.join(os.getcwd(), 'logs', log)"
   ]
  },
  {
   "cell_type": "code",
   "execution_count": 7,
   "metadata": {},
   "outputs": [],
   "source": [
    "\n",
    "tf_writer = SummaryWriter(os.path.join(os.getcwd(), 'logs', log))\n"
   ]
  },
  {
   "cell_type": "code",
   "execution_count": 8,
   "metadata": {},
   "outputs": [],
   "source": [
    "def check_rootfolders():\n",
    "    \"\"\"Create log and model folder\"\"\"\n",
    "    folders_util = [checkpoint, log]\n",
    "    for folder in folders_util:\n",
    "        if not os.path.exists(folder):\n",
    "            print('creating folder ' + folder)\n",
    "            os.mkdir(folder)\n",
    "\n",
    "check_rootfolders()"
   ]
  },
  {
   "cell_type": "code",
   "execution_count": 9,
   "metadata": {},
   "outputs": [],
   "source": [
    "def save_checkpoint(epoch , state):\n",
    "    filename = '%s/ckpt-%s.pth.tar' % (checkpoint, epoch)\n",
    "    torch.save(state, filename)"
   ]
  },
  {
   "cell_type": "code",
   "execution_count": 10,
   "metadata": {},
   "outputs": [],
   "source": [
    "model = models.resnet50(pretrained=True)\n",
    "#model.conv1 = nn.Conv2d(1, 64, kernel_size=(7, 7), stride=(2, 2), padding=(3, 3), bias=False)"
   ]
  },
  {
   "cell_type": "code",
   "execution_count": 11,
   "metadata": {},
   "outputs": [],
   "source": [
    "model.fc = nn.Sequential(nn.Linear(2048, 512),\n",
    "                                 nn.ReLU(),\n",
    "                                 nn.Dropout(0.2),\n",
    "                                 nn.Linear(512, 3),\n",
    "                                 nn.Softmax(dim=1))"
   ]
  },
  {
   "cell_type": "code",
   "execution_count": 12,
   "metadata": {},
   "outputs": [],
   "source": [
    "#model.to(device)\n",
    "model = torch.nn.DataParallel(model).cuda()\n",
    "\n",
    "\n",
    "criterion = nn.NLLLoss()\n",
    "optimizer = optim.Adam(model.parameters(), lr=0.003)"
   ]
  },
  {
   "cell_type": "code",
   "execution_count": 15,
   "metadata": {},
   "outputs": [
    {
     "data": {
      "text/html": [
       "<div>\n",
       "<style scoped>\n",
       "    .dataframe tbody tr th:only-of-type {\n",
       "        vertical-align: middle;\n",
       "    }\n",
       "\n",
       "    .dataframe tbody tr th {\n",
       "        vertical-align: top;\n",
       "    }\n",
       "\n",
       "    .dataframe thead th {\n",
       "        text-align: right;\n",
       "    }\n",
       "</style>\n",
       "<table border=\"1\" class=\"dataframe\">\n",
       "  <thead>\n",
       "    <tr style=\"text-align: right;\">\n",
       "      <th></th>\n",
       "      <th>Unnamed: 0</th>\n",
       "      <th>filename</th>\n",
       "      <th>label</th>\n",
       "    </tr>\n",
       "  </thead>\n",
       "  <tbody>\n",
       "    <tr>\n",
       "      <th>0</th>\n",
       "      <td>1038</td>\n",
       "      <td>0c2e9b99-9a8f-4b44-854e-acd181a0208c.jpg</td>\n",
       "      <td>0</td>\n",
       "    </tr>\n",
       "    <tr>\n",
       "      <th>1</th>\n",
       "      <td>2922</td>\n",
       "      <td>34fdff09-5bc2-4df5-b8cf-3c37662037c8.jpg</td>\n",
       "      <td>2</td>\n",
       "    </tr>\n",
       "    <tr>\n",
       "      <th>2</th>\n",
       "      <td>1174</td>\n",
       "      <td>0ebc8268-df3d-45d8-8ee7-b34880c62830.jpg</td>\n",
       "      <td>2</td>\n",
       "    </tr>\n",
       "    <tr>\n",
       "      <th>3</th>\n",
       "      <td>341</td>\n",
       "      <td>06f1d0a2-d8c5-4229-9944-59da85c96b81.jpg</td>\n",
       "      <td>0</td>\n",
       "    </tr>\n",
       "    <tr>\n",
       "      <th>4</th>\n",
       "      <td>280</td>\n",
       "      <td>06951c33-b247-4daf-a087-cc082f83238b.jpg</td>\n",
       "      <td>0</td>\n",
       "    </tr>\n",
       "    <tr>\n",
       "      <th>...</th>\n",
       "      <td>...</td>\n",
       "      <td>...</td>\n",
       "      <td>...</td>\n",
       "    </tr>\n",
       "    <tr>\n",
       "      <th>940</th>\n",
       "      <td>1200</td>\n",
       "      <td>0f8c91da-7e03-480e-8760-1604b1d53c97.jpg</td>\n",
       "      <td>0</td>\n",
       "    </tr>\n",
       "    <tr>\n",
       "      <th>941</th>\n",
       "      <td>1151</td>\n",
       "      <td>0dbb83c1-2214-4152-ac69-d1e7e25453cb.jpg</td>\n",
       "      <td>0</td>\n",
       "    </tr>\n",
       "    <tr>\n",
       "      <th>942</th>\n",
       "      <td>499</td>\n",
       "      <td>081e308c-0134-4ba3-b745-f632e37a83a1.jpg</td>\n",
       "      <td>0</td>\n",
       "    </tr>\n",
       "    <tr>\n",
       "      <th>943</th>\n",
       "      <td>663</td>\n",
       "      <td>095d6b7c-fa53-4f06-90b9-5c5f76038f04.jpg</td>\n",
       "      <td>2</td>\n",
       "    </tr>\n",
       "    <tr>\n",
       "      <th>944</th>\n",
       "      <td>919</td>\n",
       "      <td>0b6a7730-a747-42ce-ac00-f3dcc34df307.jpg</td>\n",
       "      <td>0</td>\n",
       "    </tr>\n",
       "  </tbody>\n",
       "</table>\n",
       "<p>945 rows × 3 columns</p>\n",
       "</div>"
      ],
      "text/plain": [
       "     Unnamed: 0                                  filename  label\n",
       "0          1038  0c2e9b99-9a8f-4b44-854e-acd181a0208c.jpg      0\n",
       "1          2922  34fdff09-5bc2-4df5-b8cf-3c37662037c8.jpg      2\n",
       "2          1174  0ebc8268-df3d-45d8-8ee7-b34880c62830.jpg      2\n",
       "3           341  06f1d0a2-d8c5-4229-9944-59da85c96b81.jpg      0\n",
       "4           280  06951c33-b247-4daf-a087-cc082f83238b.jpg      0\n",
       "..          ...                                       ...    ...\n",
       "940        1200  0f8c91da-7e03-480e-8760-1604b1d53c97.jpg      0\n",
       "941        1151  0dbb83c1-2214-4152-ac69-d1e7e25453cb.jpg      0\n",
       "942         499  081e308c-0134-4ba3-b745-f632e37a83a1.jpg      0\n",
       "943         663  095d6b7c-fa53-4f06-90b9-5c5f76038f04.jpg      2\n",
       "944         919  0b6a7730-a747-42ce-ac00-f3dcc34df307.jpg      0\n",
       "\n",
       "[945 rows x 3 columns]"
      ]
     },
     "execution_count": 15,
     "metadata": {},
     "output_type": "execute_result"
    }
   ],
   "source": [
    "pd = pd.read_csv(os.path.join(os.getcwd(), 'data', 'train.csv'))\n",
    "pd"
   ]
  },
  {
   "cell_type": "code",
   "execution_count": 18,
   "metadata": {},
   "outputs": [
    {
     "data": {
      "text/plain": [
       "'0c2e9b99-9a8f-4b44-854e-acd181a0208c.jpg'"
      ]
     },
     "execution_count": 18,
     "metadata": {},
     "output_type": "execute_result"
    }
   ],
   "source": [
    "pd.iloc[0].filename"
   ]
  },
  {
   "cell_type": "code",
   "execution_count": 19,
   "metadata": {},
   "outputs": [
    {
     "data": {
      "text/plain": [
       "945"
      ]
     },
     "execution_count": 19,
     "metadata": {},
     "output_type": "execute_result"
    }
   ],
   "source": [
    "len(pd.index)"
   ]
  },
  {
   "cell_type": "code",
   "execution_count": 20,
   "metadata": {},
   "outputs": [
    {
     "data": {
      "text/plain": [
       "945"
      ]
     },
     "execution_count": 20,
     "metadata": {},
     "output_type": "execute_result"
    }
   ],
   "source": [
    "pd.shape[0]"
   ]
  },
  {
   "cell_type": "code",
   "execution_count": null,
   "metadata": {},
   "outputs": [],
   "source": [
    "class XrayDataset(Dataset):\n",
    "    \n",
    "    def __init__(self, base, folder,  csv_path, transform=None):\n",
    "        \n",
    "        self.base = base\n",
    "        self.folder = folder\n",
    "        self.df = pd.read_csv(os.path.join(os.getcwd(), base, csv_path))\n",
    "        self.transform = transform\n",
    "        \n",
    "    \n",
    "    def __len__(self):\n",
    "        return self.df.shape[0]\n",
    "\n",
    "    def __getitem__(self, idx):\n",
    "        \n",
    "        filepath = self.df.iloc[idx].filename\n",
    "        filepath = os.path.join(os.getcwd(), self.base, self.folder,  filepath)\n",
    "        class_id = self.df.iloc[idx].label\n",
    "        #print(filepath)\n",
    "        image =  Image.open(filepath)\n",
    "\n",
    "        #image = cv2.resize(image, (224, 224))\n",
    "\n",
    "        if self.transform:\n",
    "            image = self.transform(image)\n",
    "            #print(image.shape)\n",
    "        \n",
    "        return image, class_id"
   ]
  },
  {
   "cell_type": "code",
   "execution_count": null,
   "metadata": {},
   "outputs": [],
   "source": [
    "train_transforms = transforms.Compose([\n",
    "                                    #transforms.Grayscale(1),\n",
    "                                       transforms.ColorJitter(brightness=0.1, contrast=0.1, saturation=0.1, hue=0.1),\n",
    "                                       transforms.RandomHorizontalFlip(p=0.3),\n",
    "                                        transforms.Resize((224,224)),\n",
    "                                       transforms.ToTensor(),\n",
    "                                       transforms.Normalize(mean=[0.5], std=[0.5])\n",
    "                                       ])\n",
    "test_transforms = transforms.Compose([\n",
    "#                                     transforms.Grayscale(1),\n",
    "                                      transforms.Resize((224,224)),\n",
    "                                      transforms.ToTensor(),\n",
    "                                      transforms.Normalize(mean=[0.5], std=[0.5])\n",
    "                                      ])"
   ]
  },
  {
   "cell_type": "code",
   "execution_count": null,
   "metadata": {},
   "outputs": [],
   "source": [
    "train_dataset = XrayDataset( 'data', 'train', 'train.csv', train_transforms )\n",
    "\n",
    "test_dataset = XrayDataset('data', 'test', 'test.csv', test_transforms )\n",
    "\n",
    "image, label = next(iter(train_dataset))"
   ]
  },
  {
   "cell_type": "code",
   "execution_count": null,
   "metadata": {},
   "outputs": [],
   "source": [
    "image"
   ]
  },
  {
   "cell_type": "code",
   "execution_count": null,
   "metadata": {},
   "outputs": [],
   "source": [
    "batch_size = 128"
   ]
  },
  {
   "cell_type": "code",
   "execution_count": null,
   "metadata": {},
   "outputs": [],
   "source": []
  },
  {
   "cell_type": "code",
   "execution_count": null,
   "metadata": {},
   "outputs": [],
   "source": [
    "train_dataloader = DataLoader(train_dataset, batch_size=batch_size,  shuffle=True, num_workers=4)\n",
    "test_dataloader = DataLoader(test_dataset, batch_size=batch_size,  shuffle=False, num_workers=4)"
   ]
  },
  {
   "cell_type": "code",
   "execution_count": null,
   "metadata": {},
   "outputs": [],
   "source": [
    "image, label = next(iter(train_dataloader))"
   ]
  },
  {
   "cell_type": "code",
   "execution_count": null,
   "metadata": {},
   "outputs": [],
   "source": [
    "def validate(val_loader, model, criterion, epoch):\n",
    "    model.eval()\n",
    "\n",
    "    start_val_time = time.time()\n",
    "\n",
    "    correct = 0\n",
    "    total = 0\n",
    "    running_loss = 0.0\n",
    "    count_loop = 0\n",
    "    with torch.no_grad():\n",
    "        for i, (input, target) in enumerate(val_loader):\n",
    "            count_loop +=1\n",
    "            target = target.cuda()\n",
    "\n",
    "            # compute output\n",
    "            output = model(input.cuda())\n",
    "            loss = criterion(output, target)\n",
    "            _, predicted = torch.max(output.data, 1)\n",
    "            total += target.size(0)\n",
    "            correct += (predicted == target).sum().item()\n",
    "\n",
    "            running_loss += loss.item()\n",
    "\n",
    "            # measure accuracy and record loss\n",
    "            #prec1, prec5 = accuracy(output.data, target, topk=(1, 5))\n",
    "    accurecy = 100 * correct / total\n",
    "    end_val_time = time.time()\n",
    "\n",
    "    currentDT = datetime.datetime.now()        \n",
    "    print(str(currentDT), \"=== Validation Loss : \", running_loss, \"  Accurecy : \", accurecy, \"count loop : \", count_loop, \"   Validation Time :  \", (end_val_time-start_val_time) )\n",
    "    \n",
    "    if tf_writer is not None:\n",
    "        tf_writer.add_scalar('accurecy/test', accurecy, epoch)\n",
    "        tf_writer.add_scalar('loss/test', running_loss, epoch)\n",
    "    return running_loss"
   ]
  },
  {
   "cell_type": "code",
   "execution_count": null,
   "metadata": {},
   "outputs": [],
   "source": [
    "epochs = 3000\n",
    "steps = 0\n",
    "print_every = 1\n",
    "  \n",
    "train_losses, test_losses = [], []"
   ]
  },
  {
   "cell_type": "code",
   "execution_count": null,
   "metadata": {},
   "outputs": [],
   "source": [
    "for epoch in range(epochs):\n",
    "    \n",
    "    running_loss = 0.0     \n",
    "    correct = 0\n",
    "    total = 0 \n",
    "    \n",
    "    model.train()\n",
    "\n",
    "    for inputs, labels in train_dataloader:\n",
    "        steps += 1\n",
    "        inputs, labels = inputs.to(device), labels.to(device)\n",
    "        optimizer.zero_grad()\n",
    "        logps = model(inputs)\n",
    "        loss = criterion(logps, labels)\n",
    "        loss.backward()\n",
    "        optimizer.step()\n",
    "        \n",
    "        running_loss += loss.item()\n",
    "        \n",
    "        _, predicted = torch.max(logps.data, 1)\n",
    "        #print(predicted)\n",
    "        \n",
    "        total += labels.size(0)\n",
    "        correct += (predicted == labels).sum().item()\n",
    "        #print(correct)\n",
    "    \n",
    "    accurecy = 100 * correct / total\n",
    "    tf_writer.add_scalar('loss/train', running_loss, epoch)\n",
    "    tf_writer.add_scalar('accurecy/train', accurecy, epoch)\n",
    "    print( \" === epoch : \", epoch, \"=== Training Loss : \", running_loss, \"  Accurecy : \", accurecy )\n",
    "\n",
    "    validate(test_dataloader, model, criterion, epoch)\n",
    "    tf_writer.flush()\n",
    "    \n",
    "    \n",
    "    save_checkpoint(epoch, {\n",
    "                'epoch': epoch + 1,\n",
    "                'state_dict': model.state_dict(),\n",
    "                'optimizer': optimizer.state_dict(),\n",
    "                \n",
    "            })\n",
    "\n",
    "tf_writer.close()\n"
   ]
  }
 ],
 "metadata": {
  "kernelspec": {
   "display_name": "Python 3",
   "language": "python",
   "name": "python3"
  },
  "language_info": {
   "codemirror_mode": {
    "name": "ipython",
    "version": 3
   },
   "file_extension": ".py",
   "mimetype": "text/x-python",
   "name": "python",
   "nbconvert_exporter": "python",
   "pygments_lexer": "ipython3",
   "version": "3.8.2"
  }
 },
 "nbformat": 4,
 "nbformat_minor": 4
}
