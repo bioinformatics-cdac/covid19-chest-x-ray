{
 "cells": [
  {
   "cell_type": "code",
   "execution_count": 2,
   "metadata": {},
   "outputs": [
    {
     "name": "stdout",
     "output_type": "stream",
     "text": [
      "Collecting tensorflow-serving-api\n",
      "  Downloading tensorflow_serving_api-2.1.0-py2.py3-none-any.whl (38 kB)\n",
      "Requirement already satisfied: grpcio>=1.0<2 in /lusnlsas/ramkik_data/anaconda3/envs/tf/lib/python3.7/site-packages (from tensorflow-serving-api) (1.27.2)\n",
      "Collecting tensorflow~=2.1.0\n",
      "  Downloading tensorflow-2.1.0-cp37-cp37m-manylinux2010_x86_64.whl (421.8 MB)\n",
      "\u001b[K     |████████████████████████████████| 421.8 MB 67 kB/s  eta 0:00:017\n",
      "\u001b[?25hRequirement already satisfied: protobuf>=3.6.0 in /lusnlsas/ramkik_data/anaconda3/envs/tf/lib/python3.7/site-packages (from tensorflow-serving-api) (3.11.4)\n",
      "Requirement already satisfied: six>=1.5.2 in /lusnlsas/ramkik_data/anaconda3/envs/tf/lib/python3.7/site-packages (from grpcio>=1.0<2->tensorflow-serving-api) (1.14.0)\n",
      "Requirement already satisfied: keras-preprocessing>=1.1.0 in /lusnlsas/ramkik_data/anaconda3/envs/tf/lib/python3.7/site-packages (from tensorflow~=2.1.0->tensorflow-serving-api) (1.1.0)\n",
      "Requirement already satisfied: wrapt>=1.11.1 in /lusnlsas/ramkik_data/anaconda3/envs/tf/lib/python3.7/site-packages (from tensorflow~=2.1.0->tensorflow-serving-api) (1.12.1)\n",
      "Requirement already satisfied: opt-einsum>=2.3.2 in /lusnlsas/ramkik_data/anaconda3/envs/tf/lib/python3.7/site-packages (from tensorflow~=2.1.0->tensorflow-serving-api) (3.1.0)\n",
      "Requirement already satisfied: google-pasta>=0.1.6 in /lusnlsas/ramkik_data/anaconda3/envs/tf/lib/python3.7/site-packages (from tensorflow~=2.1.0->tensorflow-serving-api) (0.2.0)\n",
      "Requirement already satisfied: keras-applications>=1.0.8 in /lusnlsas/ramkik_data/anaconda3/envs/tf/lib/python3.7/site-packages (from tensorflow~=2.1.0->tensorflow-serving-api) (1.0.8)\n",
      "Requirement already satisfied: absl-py>=0.7.0 in /lusnlsas/ramkik_data/anaconda3/envs/tf/lib/python3.7/site-packages (from tensorflow~=2.1.0->tensorflow-serving-api) (0.9.0)\n",
      "Requirement already satisfied: termcolor>=1.1.0 in /lusnlsas/ramkik_data/anaconda3/envs/tf/lib/python3.7/site-packages (from tensorflow~=2.1.0->tensorflow-serving-api) (1.1.0)\n",
      "Requirement already satisfied: gast==0.2.2 in /lusnlsas/ramkik_data/anaconda3/envs/tf/lib/python3.7/site-packages (from tensorflow~=2.1.0->tensorflow-serving-api) (0.2.2)\n",
      "Requirement already satisfied: wheel>=0.26; python_version >= \"3\" in /lusnlsas/ramkik_data/anaconda3/envs/tf/lib/python3.7/site-packages (from tensorflow~=2.1.0->tensorflow-serving-api) (0.34.2)\n",
      "Requirement already satisfied: numpy<2.0,>=1.16.0 in /lusnlsas/ramkik_data/anaconda3/envs/tf/lib/python3.7/site-packages (from tensorflow~=2.1.0->tensorflow-serving-api) (1.18.1)\n",
      "Requirement already satisfied: astor>=0.6.0 in /lusnlsas/ramkik_data/anaconda3/envs/tf/lib/python3.7/site-packages (from tensorflow~=2.1.0->tensorflow-serving-api) (0.8.0)\n",
      "Collecting tensorflow-estimator<2.2.0,>=2.1.0rc0\n",
      "  Using cached tensorflow_estimator-2.1.0-py2.py3-none-any.whl (448 kB)\n",
      "Requirement already satisfied: scipy==1.4.1; python_version >= \"3\" in /lusnlsas/ramkik_data/anaconda3/envs/tf/lib/python3.7/site-packages (from tensorflow~=2.1.0->tensorflow-serving-api) (1.4.1)\n",
      "Requirement already satisfied: tensorboard<2.2.0,>=2.1.0 in /lusnlsas/ramkik_data/anaconda3/envs/tf/lib/python3.7/site-packages (from tensorflow~=2.1.0->tensorflow-serving-api) (2.1.0)\n",
      "Requirement already satisfied: setuptools in /lusnlsas/ramkik_data/anaconda3/envs/tf/lib/python3.7/site-packages (from protobuf>=3.6.0->tensorflow-serving-api) (46.1.3.post20200330)\n",
      "Requirement already satisfied: h5py in /lusnlsas/ramkik_data/anaconda3/envs/tf/lib/python3.7/site-packages (from keras-applications>=1.0.8->tensorflow~=2.1.0->tensorflow-serving-api) (2.10.0)\n",
      "Requirement already satisfied: requests<3,>=2.21.0 in /lusnlsas/ramkik_data/anaconda3/envs/tf/lib/python3.7/site-packages (from tensorboard<2.2.0,>=2.1.0->tensorflow~=2.1.0->tensorflow-serving-api) (2.23.0)\n",
      "Requirement already satisfied: google-auth<2,>=1.6.3 in /lusnlsas/ramkik_data/anaconda3/envs/tf/lib/python3.7/site-packages (from tensorboard<2.2.0,>=2.1.0->tensorflow~=2.1.0->tensorflow-serving-api) (1.13.1)\n",
      "Requirement already satisfied: markdown>=2.6.8 in /lusnlsas/ramkik_data/anaconda3/envs/tf/lib/python3.7/site-packages (from tensorboard<2.2.0,>=2.1.0->tensorflow~=2.1.0->tensorflow-serving-api) (3.1.1)\n",
      "Requirement already satisfied: google-auth-oauthlib<0.5,>=0.4.1 in /lusnlsas/ramkik_data/anaconda3/envs/tf/lib/python3.7/site-packages (from tensorboard<2.2.0,>=2.1.0->tensorflow~=2.1.0->tensorflow-serving-api) (0.4.1)\n",
      "Requirement already satisfied: werkzeug>=0.11.15 in /lusnlsas/ramkik_data/anaconda3/envs/tf/lib/python3.7/site-packages (from tensorboard<2.2.0,>=2.1.0->tensorflow~=2.1.0->tensorflow-serving-api) (0.16.1)\n",
      "Requirement already satisfied: idna<3,>=2.5 in /lusnlsas/ramkik_data/anaconda3/envs/tf/lib/python3.7/site-packages (from requests<3,>=2.21.0->tensorboard<2.2.0,>=2.1.0->tensorflow~=2.1.0->tensorflow-serving-api) (2.9)\n",
      "Requirement already satisfied: certifi>=2017.4.17 in /lusnlsas/ramkik_data/anaconda3/envs/tf/lib/python3.7/site-packages (from requests<3,>=2.21.0->tensorboard<2.2.0,>=2.1.0->tensorflow~=2.1.0->tensorflow-serving-api) (2020.4.5.1)\n",
      "Requirement already satisfied: chardet<4,>=3.0.2 in /lusnlsas/ramkik_data/anaconda3/envs/tf/lib/python3.7/site-packages (from requests<3,>=2.21.0->tensorboard<2.2.0,>=2.1.0->tensorflow~=2.1.0->tensorflow-serving-api) (3.0.4)\n",
      "Requirement already satisfied: urllib3!=1.25.0,!=1.25.1,<1.26,>=1.21.1 in /lusnlsas/ramkik_data/anaconda3/envs/tf/lib/python3.7/site-packages (from requests<3,>=2.21.0->tensorboard<2.2.0,>=2.1.0->tensorflow~=2.1.0->tensorflow-serving-api) (1.25.8)\n",
      "Requirement already satisfied: pyasn1-modules>=0.2.1 in /lusnlsas/ramkik_data/anaconda3/envs/tf/lib/python3.7/site-packages (from google-auth<2,>=1.6.3->tensorboard<2.2.0,>=2.1.0->tensorflow~=2.1.0->tensorflow-serving-api) (0.2.7)\n",
      "Requirement already satisfied: cachetools<5.0,>=2.0.0 in /lusnlsas/ramkik_data/anaconda3/envs/tf/lib/python3.7/site-packages (from google-auth<2,>=1.6.3->tensorboard<2.2.0,>=2.1.0->tensorflow~=2.1.0->tensorflow-serving-api) (3.1.1)\n",
      "Requirement already satisfied: rsa<4.1,>=3.1.4 in /lusnlsas/ramkik_data/anaconda3/envs/tf/lib/python3.7/site-packages (from google-auth<2,>=1.6.3->tensorboard<2.2.0,>=2.1.0->tensorflow~=2.1.0->tensorflow-serving-api) (4.0)\n",
      "Requirement already satisfied: requests-oauthlib>=0.7.0 in /lusnlsas/ramkik_data/anaconda3/envs/tf/lib/python3.7/site-packages (from google-auth-oauthlib<0.5,>=0.4.1->tensorboard<2.2.0,>=2.1.0->tensorflow~=2.1.0->tensorflow-serving-api) (1.3.0)\n",
      "Requirement already satisfied: pyasn1<0.5.0,>=0.4.6 in /lusnlsas/ramkik_data/anaconda3/envs/tf/lib/python3.7/site-packages (from pyasn1-modules>=0.2.1->google-auth<2,>=1.6.3->tensorboard<2.2.0,>=2.1.0->tensorflow~=2.1.0->tensorflow-serving-api) (0.4.8)\n",
      "Requirement already satisfied: oauthlib>=3.0.0 in /lusnlsas/ramkik_data/anaconda3/envs/tf/lib/python3.7/site-packages (from requests-oauthlib>=0.7.0->google-auth-oauthlib<0.5,>=0.4.1->tensorboard<2.2.0,>=2.1.0->tensorflow~=2.1.0->tensorflow-serving-api) (3.1.0)\n",
      "Installing collected packages: tensorflow-estimator, tensorflow, tensorflow-serving-api\n",
      "  Attempting uninstall: tensorflow-estimator\n",
      "    Found existing installation: tensorflow-estimator 2.0.0\n",
      "    Uninstalling tensorflow-estimator-2.0.0:\n",
      "      Successfully uninstalled tensorflow-estimator-2.0.0\n",
      "  Attempting uninstall: tensorflow\n",
      "    Found existing installation: tensorflow 2.0.0\n",
      "    Uninstalling tensorflow-2.0.0:\n",
      "      Successfully uninstalled tensorflow-2.0.0\n",
      "Successfully installed tensorflow-2.1.0 tensorflow-estimator-2.1.0 tensorflow-serving-api-2.1.0\n"
     ]
    }
   ],
   "source": [
    "!pip install tensorflow-serving-api\n"
   ]
  },
  {
   "cell_type": "code",
   "execution_count": 4,
   "metadata": {},
   "outputs": [],
   "source": [
    "import os"
   ]
  },
  {
   "cell_type": "code",
   "execution_count": 5,
   "metadata": {},
   "outputs": [],
   "source": [
    "MODEL_DIR = 'models'\n",
    "\n",
    "os.environ[\"MODEL_DIR\"] = MODEL_DIR"
   ]
  },
  {
   "cell_type": "code",
   "execution_count": 6,
   "metadata": {},
   "outputs": [],
   "source": [
    "%%bash --bg \n",
    "nohup tensorflow_model_server \\\n",
    "  --rest_api_port=8501 \\\n",
    "  --model_name=fashion_model \\\n",
    "  --model_base_path=\"${MODEL_DIR}\" >server.log 2>&1\n"
   ]
  },
  {
   "cell_type": "code",
   "execution_count": 8,
   "metadata": {},
   "outputs": [
    {
     "name": "stdout",
     "output_type": "stream",
     "text": [
      "nohup: failed to run command 'tensorflow_model_server': No such file or directory\n"
     ]
    }
   ],
   "source": [
    "!tail  server.log"
   ]
  },
  {
   "cell_type": "code",
   "execution_count": 9,
   "metadata": {},
   "outputs": [
    {
     "name": "stdout",
     "output_type": "stream",
     "text": [
      "/bin/sh: 1: tensorflow_model_server: not found\n"
     ]
    }
   ],
   "source": [
    "!tensorflow_model_server"
   ]
  },
  {
   "cell_type": "code",
   "execution_count": null,
   "metadata": {},
   "outputs": [],
   "source": []
  }
 ],
 "metadata": {
  "kernelspec": {
   "display_name": "Python 3",
   "language": "python",
   "name": "python3"
  },
  "language_info": {
   "codemirror_mode": {
    "name": "ipython",
    "version": 3
   },
   "file_extension": ".py",
   "mimetype": "text/x-python",
   "name": "python",
   "nbconvert_exporter": "python",
   "pygments_lexer": "ipython3",
   "version": "3.7.7"
  }
 },
 "nbformat": 4,
 "nbformat_minor": 4
}
